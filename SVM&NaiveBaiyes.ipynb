{
  "nbformat": 4,
  "nbformat_minor": 0,
  "metadata": {
    "colab": {
      "provenance": []
    },
    "kernelspec": {
      "name": "python3",
      "display_name": "Python 3"
    },
    "language_info": {
      "name": "python"
    }
  },
  "cells": [
    {
      "cell_type": "markdown",
      "source": [
        "\n",
        "1.  What is a Support Vector Machine (SVM)?\n",
        "\n",
        "-> SVM is a supervised learning algorithm used for classification and regression. It finds the optimal hyperplane that best separates data points of different classes with the maximum margin.\n",
        "\n",
        "2. What is the difference between Hard Margin and Soft Margin SVM?\n",
        "-> Hard Margin SVM assumes data is linearly separable with no misclassifications. Soft Margin SVM allows some misclassifications using a penalty (via the C parameter) to handle noise or non-linearly separable data.\n",
        "\n",
        "3. What is the mathematical intuition behind SVM?\n",
        "-> SVM aims to maximize the margin between support vectors of different classes by solving a constrained optimization problem, ensuring the best separation. This results in better generalization on unseen data.\n",
        "\n",
        "4. What is the role of Lagrange Multipliers in SVM?\n",
        "-> Lagrange Multipliers transform the constrained optimization problem into its dual form. This enables efficient computation and the application of the kernel trick for non-linear classification.\n",
        "\n",
        "5. What are Support Vectors in SVM?\n",
        "-> Support vectors are the data points closest to the separating hyperplane. They are critical as they define the position and orientation of the hyperplane.\n",
        "\n",
        "6. What is a Support Vector Classifier (SVC)?\n",
        "-> SVC is the classification implementation of SVM that finds a decision boundary to separate data into distinct classes. It supports both linear and non-linear classification using kernels.\n",
        "\n",
        "7. What is a Support Vector Regressor (SVR)?\n",
        "-> SVR adapts SVM for regression by fitting the best line within a specified error margin (epsilon). It focuses on predicting continuous values while ignoring small deviations.\n",
        "\n",
        "8. What is the Kernel Trick in SVM?\n",
        "-> The kernel trick transforms data into a higher-dimensional space without explicitly computing the transformation. This enables SVM to handle non-linear relationships using linear methods in the new space.\n",
        "\n",
        "9. Compare Linear Kernel, Polynomial Kernel, and RBF Kernel?\n",
        "\n",
        "* **Linear Kernel**: Best for linearly separable data; fast and simple.\n",
        "* **Polynomial Kernel**: Captures polynomial relationships; more complex.\n",
        "* **RBF (Radial Basis Function) Kernel**: Most versatile; captures local patterns and non-linear relationships effectively.\n",
        "\n",
        "10. What is the effect of the C parameter in SVM?\n",
        "-> C controls the trade-off between maximizing the margin and minimizing classification error. A high C penalizes misclassification heavily (low bias, high variance), while a low C allows more flexibility (high bias, low variance).\n",
        "\n",
        "11. What is the role of the Gamma parameter in RBF Kernel SVM?\n",
        "-> Gamma defines how far the influence of a single training example reaches. A high gamma focuses on nearby points (overfitting), while a low gamma has a broader influence (underfitting).\n",
        "\n",
        "---\n",
        "\n",
        "12. What is the Naïve Bayes classifier, and why is it called \"Naïve\"?\n",
        "-> Naïve Bayes is a probabilistic classifier based on Bayes' Theorem, assuming strong (naïve) independence between features. It’s called \"naïve\" because it assumes that all features contribute independently to the outcome.\n",
        "\n",
        "13. What is Bayes’ Theorem?\n",
        "-> Bayes’ Theorem calculates the probability of a hypothesis given prior knowledge. It is expressed as:\n",
        "**P(H|E) = (P(E|H) \\* P(H)) / P(E)**\n",
        "\n",
        "14. Explain the differences between Gaussian Naïve Bayes, Multinomial Naïve Bayes, and Bernoulli Naïve Bayes?\n",
        "\n",
        "* **Gaussian NB**: Assumes features follow a normal distribution; used for continuous data.\n",
        "* **Multinomial NB**: Used for discrete counts (e.g., word frequencies in text).\n",
        "* **Bernoulli NB**: Works with binary features (e.g., presence/absence of a word).\n",
        "\n",
        "15. When should you use Gaussian Naïve Bayes over other variants?\n",
        "-> Use Gaussian Naïve Bayes when the input features are continuous and approximately follow a normal distribution. It’s ideal for datasets like iris or sensor measurements.\n",
        "\n",
        "16. What are the key assumptions made by Naïve Bayes?\n",
        "-> It assumes all features are conditionally independent given the class label and that the likelihood of features follows a specific distribution (e.g., Gaussian). This simplifies computation but is rarely true in practice.\n",
        "\n",
        "17. What are the advantages and disadvantages of Naïve Bayes?\n",
        "-> Advantages include simplicity, fast training, and good performance on high-dimensional data. Disadvantages include poor performance if the independence assumption is violated or if feature distributions are misestimated.\n",
        "\n",
        "18. Why is Naïve Bayes a good choice for text classification?\n",
        "-> Naïve Bayes performs well on text data due to the high dimensionality and sparsity of word features, and the relative independence between word occurrences in documents.\n",
        "\n",
        "19. Compare SVM and Naïve Bayes for classification tasks?\n",
        "-> SVM generally gives better accuracy, especially on complex datasets with non-linear boundaries, but is slower. Naïve Bayes is faster and works well on text but can struggle with dependent features.\n",
        "\n",
        "20. How does Laplace Smoothing help in Naïve Bayes?\n",
        "-> Laplace Smoothing adds a small constant (usually 1) to all feature counts to prevent zero probabilities for unseen features during prediction. This improves robustness, especially with sparse data.\n",
        "\n",
        "\n"
      ],
      "metadata": {
        "id": "_H8tzWB8i33D"
      }
    },
    {
      "cell_type": "code",
      "execution_count": null,
      "metadata": {
        "colab": {
          "base_uri": "https://localhost:8080/"
        },
        "id": "N8MckL0rivWR",
        "outputId": "eb61c1b9-cdba-4426-d533-594f4e2a2cc7"
      },
      "outputs": [
        {
          "output_type": "stream",
          "name": "stdout",
          "text": [
            "Accuracy: 1.0\n"
          ]
        }
      ],
      "source": [
        "#  Train an SVM Classifier on the Iris dataset and evaluate accuracy\n",
        "from sklearn import datasets\n",
        "from sklearn.model_selection import train_test_split\n",
        "from sklearn.svm import SVC\n",
        "from sklearn.metrics import accuracy_score\n",
        "\n",
        "iris = datasets.load_iris()\n",
        "X_train, X_test, y_train, y_test = train_test_split(iris.data, iris.target, test_size=0.2, random_state=42)\n",
        "\n",
        "model = SVC(kernel='linear')\n",
        "model.fit(X_train, y_train)\n",
        "predictions = model.predict(X_test)\n",
        "\n",
        "print(\"Accuracy:\", accuracy_score(y_test, predictions))"
      ]
    },
    {
      "cell_type": "code",
      "source": [
        "# Train two SVM classifiers (Linear & RBF) on the Wine dataset and compare accuracies\n",
        "from sklearn.datasets import load_wine\n",
        "from sklearn.model_selection import train_test_split\n",
        "from sklearn.svm import SVC\n",
        "from sklearn.metrics import accuracy_score\n",
        "\n",
        "wine = load_wine()\n",
        "X_train, X_test, y_train, y_test = train_test_split(wine.data, wine.target, test_size=0.3, random_state=42)\n",
        "\n",
        "linear_svm = SVC(kernel='linear')\n",
        "rbf_svm = SVC(kernel='rbf')\n",
        "\n",
        "linear_svm.fit(X_train, y_train)\n",
        "rbf_svm.fit(X_train, y_train)\n",
        "\n",
        "linear_acc = accuracy_score(y_test, linear_svm.predict(X_test))\n",
        "rbf_acc = accuracy_score(y_test, rbf_svm.predict(X_test))\n",
        "\n",
        "print(f\"Linear Kernel Accuracy: {linear_acc:.2f}\")\n",
        "print(f\"RBF Kernel Accuracy: {rbf_acc:.2f}\")"
      ],
      "metadata": {
        "colab": {
          "base_uri": "https://localhost:8080/"
        },
        "id": "4Y5uj96FkwsD",
        "outputId": "1db79c47-ee93-40a1-8721-112c77ace127"
      },
      "execution_count": null,
      "outputs": [
        {
          "output_type": "stream",
          "name": "stdout",
          "text": [
            "Linear Kernel Accuracy: 0.98\n",
            "RBF Kernel Accuracy: 0.76\n"
          ]
        }
      ]
    },
    {
      "cell_type": "code",
      "source": [
        "# Train an SVM Regressor (SVR) on a housing dataset and evaluate using MSE\n",
        "from sklearn.datasets import fetch_california_housing\n",
        "from sklearn.model_selection import train_test_split\n",
        "from sklearn.svm import SVR\n",
        "from sklearn.metrics import mean_squared_error\n",
        "\n",
        "data = fetch_california_housing()\n",
        "X_train, X_test, y_train, y_test = train_test_split(data.data, data.target, test_size=0.3, random_state=42)\n",
        "\n",
        "svr = SVR(kernel='rbf')\n",
        "svr.fit(X_train, y_train)\n",
        "predictions = svr.predict(X_test)\n",
        "\n",
        "mse = mean_squared_error(y_test, predictions)\n",
        "print(\"Mean Squared Error:\", mse)"
      ],
      "metadata": {
        "colab": {
          "base_uri": "https://localhost:8080/"
        },
        "id": "L2WXNJJjk3iz",
        "outputId": "37e8018c-0429-448c-a229-2cc458ca3468"
      },
      "execution_count": null,
      "outputs": [
        {
          "output_type": "stream",
          "name": "stdout",
          "text": [
            "Mean Squared Error: 1.3489971413208723\n"
          ]
        }
      ]
    },
    {
      "cell_type": "code",
      "source": [
        "# Train an SVM Classifier with Polynomial Kernel and visualize the decision boundary\n",
        "import numpy as np\n",
        "import matplotlib.pyplot as plt\n",
        "from sklearn import datasets\n",
        "from sklearn.svm import SVC\n",
        "\n",
        "# Load data (only 2 features for 2D visualization)\n",
        "X, y = datasets.make_moons(n_samples=100, noise=0.2, random_state=0)\n",
        "\n",
        "clf = SVC(kernel='poly', degree=3, C=1.0)\n",
        "clf.fit(X, y)\n",
        "\n",
        "# Plotting decision boundary\n",
        "def plot_decision_boundary(model, X, y):\n",
        "    h = 0.02\n",
        "    x_min, x_max = X[:, 0].min() - 1, X[:, 0].max() + 1\n",
        "    y_min, y_max = X[:, 1].min() - 1, X[:, 1].max() + 1\n",
        "    xx, yy = np.meshgrid(np.arange(x_min, x_max, h),\n",
        "                         np.arange(y_min, y_max, h))\n",
        "    Z = model.predict(np.c_[xx.ravel(), yy.ravel()])\n",
        "    Z = Z.reshape(xx.shape)\n",
        "    plt.contourf(xx, yy, Z, alpha=0.8)\n",
        "    plt.scatter(X[:, 0], X[:, 1], c=y, edgecolors='k')\n",
        "    plt.title(\"SVM with Polynomial Kernel\")\n",
        "    plt.show()\n",
        "\n",
        "plot_decision_boundary(clf, X, y)"
      ],
      "metadata": {
        "colab": {
          "base_uri": "https://localhost:8080/",
          "height": 452
        },
        "id": "H4Oeztqqk_dj",
        "outputId": "ddf99bd1-c94e-4ec0-b167-a1215e1101dd"
      },
      "execution_count": null,
      "outputs": [
        {
          "output_type": "display_data",
          "data": {
            "text/plain": [
              "<Figure size 640x480 with 1 Axes>"
            ],
            "image/png": "[encoded data removed]"
          },
          "metadata": {}
        }
      ]
    },
    {
      "cell_type": "code",
      "source": [
        "# Train a Gaussian Naïve Bayes classifier on the Breast Cancer dataset and evaluate accuracy\n",
        "from sklearn.datasets import load_breast_cancer\n",
        "from sklearn.model_selection import train_test_split\n",
        "from sklearn.naive_bayes import GaussianNB\n",
        "from sklearn.metrics import accuracy_score\n",
        "\n",
        "data = load_breast_cancer()\n",
        "X_train, X_test, y_train, y_test = train_test_split(data.data, data.target, test_size=0.2, random_state=42)\n",
        "\n",
        "gnb = GaussianNB()\n",
        "gnb.fit(X_train, y_train)\n",
        "predictions = gnb.predict(X_test)\n",
        "\n",
        "print(\"Accuracy:\", accuracy_score(y_test, predictions))"
      ],
      "metadata": {
        "colab": {
          "base_uri": "https://localhost:8080/"
        },
        "id": "F8nqLTK5lIMC",
        "outputId": "dbfb7053-2f19-41d7-ed31-3a7b3a501ef2"
      },
      "execution_count": null,
      "outputs": [
        {
          "output_type": "stream",
          "name": "stdout",
          "text": [
            "Accuracy: 0.9736842105263158\n"
          ]
        }
      ]
    },
    {
      "cell_type": "code",
      "source": [
        "# SVM Classifier with Different C Values – Visual Comparison\n",
        "import numpy as np\n",
        "import matplotlib.pyplot as plt\n",
        "from sklearn import datasets\n",
        "from sklearn.svm import SVC\n",
        "\n",
        "X, y = datasets.make_classification(n_features=2, n_redundant=0, n_informative=2,\n",
        "                                     n_clusters_per_class=1, n_samples=100, random_state=42)\n",
        "\n",
        "C_values = [0.01, 1, 100]\n",
        "plt.figure(figsize=(12, 4))\n",
        "\n",
        "for i, C in enumerate(C_values):\n",
        "    model = SVC(C=C, kernel='linear')\n",
        "    model.fit(X, y)\n",
        "\n",
        "    plt.subplot(1, 3, i + 1)\n",
        "    plt.title(f\"C={C}\")\n",
        "    ax = plt.gca()\n",
        "    xlim = ax.get_xlim()\n",
        "    ylim = ax.get_ylim()\n",
        "\n",
        "    xx, yy = np.meshgrid(np.linspace(xlim[0], xlim[1], 200),\n",
        "                         np.linspace(ylim[0], ylim[1], 200))\n",
        "    Z = model.decision_function(np.c_[xx.ravel(), yy.ravel()])\n",
        "    Z = Z.reshape(xx.shape)\n",
        "\n",
        "    plt.contourf(xx, yy, Z, levels=[-1, 0, 1], alpha=0.2)\n",
        "    plt.scatter(X[:, 0], X[:, 1], c=y, cmap='coolwarm', edgecolors='k')\n",
        "\n",
        "plt.tight_layout()\n",
        "plt.show()"
      ],
      "metadata": {
        "colab": {
          "base_uri": "https://localhost:8080/",
          "height": 407
        },
        "id": "ayukCuyClWPU",
        "outputId": "756ddb62-e42f-4edd-b23a-7874ba0d97b7"
      },
      "execution_count": null,
      "outputs": [
        {
          "output_type": "display_data",
          "data": {
            "text/plain": [
              "<Figure size 1200x400 with 3 Axes>"
            ],
            "image/png": "[encoded data removed]"
          },
          "metadata": {}
        }
      ]
    },
    {
      "cell_type": "code",
      "source": [
        "#  Bernoulli Naïve Bayes for Binary Features\n",
        "from sklearn.naive_bayes import BernoulliNB\n",
        "from sklearn.model_selection import train_test_split\n",
        "from sklearn.datasets import make_classification\n",
        "from sklearn.preprocessing import Binarizer\n",
        "from sklearn.metrics import accuracy_score\n",
        "\n",
        "X, y = make_classification(n_samples=1000, n_features=20, n_informative=5, random_state=0)\n",
        "X_bin = Binarizer(threshold=0.0).fit_transform(X)\n",
        "\n",
        "X_train, X_test, y_train, y_test = train_test_split(X_bin, y, test_size=0.3, random_state=42)\n",
        "bnb = BernoulliNB()\n",
        "bnb.fit(X_train, y_train)\n",
        "print(\"Accuracy:\", accuracy_score(y_test, bnb.predict(X_test)))\n"
      ],
      "metadata": {
        "colab": {
          "base_uri": "https://localhost:8080/"
        },
        "id": "ASrztfbOlaZn",
        "outputId": "c63b651d-7c32-4f82-c9c4-f7f949d53e65"
      },
      "execution_count": null,
      "outputs": [
        {
          "output_type": "stream",
          "name": "stdout",
          "text": [
            "Accuracy: 0.9066666666666666\n"
          ]
        }
      ]
    },
    {
      "cell_type": "code",
      "source": [
        "# SVM with and without Feature Scaling\n",
        "from sklearn.preprocessing import StandardScaler\n",
        "from sklearn.pipeline import make_pipeline\n",
        "from sklearn.svm import SVC\n",
        "\n",
        "# Without scaling\n",
        "clf1 = SVC()\n",
        "clf1.fit(X_train, y_train)\n",
        "print(\"Accuracy without scaling:\", accuracy_score(y_test, clf1.predict(X_test)))\n",
        "\n",
        "# With scaling\n",
        "clf2 = make_pipeline(StandardScaler(), SVC())\n",
        "clf2.fit(X_train, y_train)\n",
        "print(\"Accuracy with scaling:\", accuracy_score(y_test, clf2.predict(X_test)))"
      ],
      "metadata": {
        "colab": {
          "base_uri": "https://localhost:8080/"
        },
        "id": "Yt5X7USWlgEV",
        "outputId": "9d1f85b6-4a17-427a-e342-4e00552f7ebb"
      },
      "execution_count": null,
      "outputs": [
        {
          "output_type": "stream",
          "name": "stdout",
          "text": [
            "Accuracy without scaling: 0.9233333333333333\n",
            "Accuracy with scaling: 0.9233333333333333\n"
          ]
        }
      ]
    },
    {
      "cell_type": "code",
      "source": [
        "# Gaussian NB Before vs After Laplace Smoothing\n",
        "from sklearn.naive_bayes import GaussianNB\n",
        "\n",
        "# Without Laplace smoothing (default)\n",
        "gnb = GaussianNB()\n",
        "gnb.fit(X_train, y_train)\n",
        "pred_default = gnb.predict(X_test)\n",
        "\n",
        "# With Laplace smoothing (simulated by adding small value to variance)\n",
        "gnb.var_ += 1e-9\n",
        "pred_smooth = gnb.predict(X_test)\n",
        "\n",
        "print(\"Accuracy before smoothing:\", accuracy_score(y_test, pred_default))\n",
        "print(\"Accuracy after smoothing:\", accuracy_score(y_test, pred_smooth))\n"
      ],
      "metadata": {
        "colab": {
          "base_uri": "https://localhost:8080/"
        },
        "id": "0_ENlMBSlnYU",
        "outputId": "7540f1c2-87e7-46d6-88b4-92fb4f2aac29"
      },
      "execution_count": null,
      "outputs": [
        {
          "output_type": "stream",
          "name": "stdout",
          "text": [
            "Accuracy before smoothing: 0.9166666666666666\n",
            "Accuracy after smoothing: 0.9166666666666666\n"
          ]
        }
      ]
    },
    {
      "cell_type": "code",
      "source": [
        "# SVM + GridSearchCV for Hyperparameter Tuning\n",
        "from sklearn.model_selection import GridSearchCV\n",
        "\n",
        "param_grid = {\n",
        "    'C': [0.1, 1, 10],\n",
        "    'gamma': ['scale', 0.1, 1],\n",
        "    'kernel': ['linear', 'rbf']\n",
        "}\n",
        "\n",
        "grid = GridSearchCV(SVC(), param_grid, cv=5)\n",
        "grid.fit(X_train, y_train)\n",
        "\n",
        "print(\"Best Parameters:\", grid.best_params_)\n",
        "print(\"Best Score:\", grid.best_score_)"
      ],
      "metadata": {
        "colab": {
          "base_uri": "https://localhost:8080/"
        },
        "id": "Vip3iXHZlswZ",
        "outputId": "747e1aff-fd7b-4116-c6c4-841fb81106ff"
      },
      "execution_count": null,
      "outputs": [
        {
          "output_type": "stream",
          "name": "stdout",
          "text": [
            "Best Parameters: {'C': 1, 'gamma': 'scale', 'kernel': 'rbf'}\n",
            "Best Score: 0.9114285714285714\n"
          ]
        }
      ]
    },
    {
      "cell_type": "code",
      "source": [
        "# SVM on Imbalanced Data with Class Weights\n",
        "from sklearn.datasets import make_classification\n",
        "from sklearn.utils.class_weight import compute_class_weight\n",
        "\n",
        "X, y = make_classification(n_samples=1000, weights=[0.9, 0.1], n_classes=2, random_state=42)\n",
        "X_train, X_test, y_train, y_test = train_test_split(X, y, stratify=y, test_size=0.3)\n",
        "\n",
        "# Without class weight\n",
        "model1 = SVC()\n",
        "model1.fit(X_train, y_train)\n",
        "acc1 = accuracy_score(y_test, model1.predict(X_test))\n",
        "\n",
        "# With class weight\n",
        "model2 = SVC(class_weight='balanced')\n",
        "model2.fit(X_train, y_train)\n",
        "acc2 = accuracy_score(y_test, model2.predict(X_test))\n",
        "\n",
        "print(\"Accuracy without class weights:\", acc1)\n",
        "print(\"Accuracy with class weights:\", acc2)\n"
      ],
      "metadata": {
        "colab": {
          "base_uri": "https://localhost:8080/"
        },
        "id": "iI0rIwDhlzOR",
        "outputId": "0ef96d4b-c6d7-44c2-8840-ac66d1d277b9"
      },
      "execution_count": null,
      "outputs": [
        {
          "output_type": "stream",
          "name": "stdout",
          "text": [
            "Accuracy without class weights: 0.9333333333333333\n",
            "Accuracy with class weights: 0.9366666666666666\n"
          ]
        }
      ]
    },
    {
      "cell_type": "code",
      "source": [
        "# Naïve Bayes for Spam Detection\n",
        "from sklearn.feature_extraction.text import CountVectorizer\n",
        "from sklearn.naive_bayes import MultinomialNB\n",
        "from sklearn.model_selection import train_test_split\n",
        "from sklearn.metrics import classification_report\n",
        "\n",
        "# Sample email data\n",
        "emails = [\"Free money now!!!\", \"Hi friend, how are you?\", \"Win $$$ easily\", \"Let's meet for lunch\", \"Claim your reward\"]\n",
        "labels = [1, 0, 1, 0, 1]  # 1 = spam, 0 = ham\n",
        "\n",
        "vec = CountVectorizer()\n",
        "X = vec.fit_transform(emails)\n",
        "\n",
        "X_train, X_test, y_train, y_test = train_test_split(X, labels, test_size=0.4, random_state=42)\n",
        "model = MultinomialNB()\n",
        "model.fit(X_train, y_train)\n",
        "\n",
        "print(classification_report(y_test, model.predict(X_test)))"
      ],
      "metadata": {
        "colab": {
          "base_uri": "https://localhost:8080/"
        },
        "id": "cY7KKqHyl4Ar",
        "outputId": "a1b94677-2b64-4ecf-c49d-bc478909ca43"
      },
      "execution_count": null,
      "outputs": [
        {
          "output_type": "stream",
          "name": "stdout",
          "text": [
            "              precision    recall  f1-score   support\n",
            "\n",
            "           0       0.00      0.00      0.00         1\n",
            "           1       0.50      1.00      0.67         1\n",
            "\n",
            "    accuracy                           0.50         2\n",
            "   macro avg       0.25      0.50      0.33         2\n",
            "weighted avg       0.25      0.50      0.33         2\n",
            "\n"
          ]
        },
        {
          "output_type": "stream",
          "name": "stderr",
          "text": [
            "/usr/local/lib/python3.11/dist-packages/sklearn/metrics/_classification.py:1565: UndefinedMetricWarning: Precision is ill-defined and being set to 0.0 in labels with no predicted samples. Use `zero_division` parameter to control this behavior.\n",
            "  _warn_prf(average, modifier, f\"{metric.capitalize()} is\", len(result))\n",
            "/usr/local/lib/python3.11/dist-packages/sklearn/metrics/_classification.py:1565: UndefinedMetricWarning: Precision is ill-defined and being set to 0.0 in labels with no predicted samples. Use `zero_division` parameter to control this behavior.\n",
            "  _warn_prf(average, modifier, f\"{metric.capitalize()} is\", len(result))\n",
            "/usr/local/lib/python3.11/dist-packages/sklearn/metrics/_classification.py:1565: UndefinedMetricWarning: Precision is ill-defined and being set to 0.0 in labels with no predicted samples. Use `zero_division` parameter to control this behavior.\n",
            "  _warn_prf(average, modifier, f\"{metric.capitalize()} is\", len(result))\n"
          ]
        }
      ]
    },
    {
      "cell_type": "code",
      "source": [
        "# Compare SVM and Naïve Bayes on Same Dataset\n",
        "from sklearn.naive_bayes import GaussianNB\n",
        "\n",
        "# SVM\n",
        "svm_model = SVC()\n",
        "svm_model.fit(X_train, y_train)\n",
        "svm_acc = accuracy_score(y_test, svm_model.predict(X_test))\n",
        "\n",
        "# Gaussian Naive Bayes\n",
        "nb_model = GaussianNB()\n",
        "# Convert sparse data to dense array for GaussianNB\n",
        "nb_model.fit(X_train.toarray(), y_train)\n",
        "nb_acc = accuracy_score(y_test, nb_model.predict(X_test.toarray()))\n",
        "\n",
        "print(f\"SVM Accuracy: {svm_acc:.2f}\")\n",
        "print(f\"Naïve Bayes Accuracy: {nb_acc:.2f}\")"
      ],
      "metadata": {
        "colab": {
          "base_uri": "https://localhost:8080/"
        },
        "id": "TBHrUqzmmKBR",
        "outputId": "84cab42f-5f54-4121-810b-fd0cfa1a2f3a"
      },
      "execution_count": null,
      "outputs": [
        {
          "output_type": "stream",
          "name": "stdout",
          "text": [
            "SVM Accuracy: 0.50\n",
            "Naïve Bayes Accuracy: 0.50\n"
          ]
        }
      ]
    },
    {
      "cell_type": "code",
      "source": [
        "# Feature Selection Before Naïve Bayes\n",
        "from sklearn.feature_selection import SelectKBest, chi2\n",
        "\n",
        "# Feature selection\n",
        "X_new = SelectKBest(chi2, k=10).fit_transform(X_train, y_train)\n",
        "X_test_new = SelectKBest(chi2, k=10).fit(X_train, y_train).transform(X_test)\n",
        "\n",
        "model = GaussianNB()\n",
        "# model.fit(X_new, y_train)\n",
        "model.fit(X_new.toarray(), y_train)\n",
        "print(\"Accuracy after feature selection:\", accuracy_score(y_test, model.predict(X_test_new.toarray())))"
      ],
      "metadata": {
        "colab": {
          "base_uri": "https://localhost:8080/"
        },
        "id": "T2vJJ1n_mVhQ",
        "outputId": "9d368131-8363-4ffd-b7e3-b9d7a128d728"
      },
      "execution_count": null,
      "outputs": [
        {
          "output_type": "stream",
          "name": "stdout",
          "text": [
            "Accuracy after feature selection: 0.5\n"
          ]
        }
      ]
    },
    {
      "cell_type": "code",
      "source": [
        "# One-vs-Rest (OvR) and One-vs-One (OvO) with SVM on Wine Dataset\n",
        "from sklearn.datasets import load_wine\n",
        "from sklearn.svm import SVC\n",
        "from sklearn.model_selection import train_test_split\n",
        "from sklearn.multiclass import OneVsRestClassifier, OneVsOneClassifier\n",
        "from sklearn.metrics import accuracy_score\n",
        "\n",
        "X, y = load_wine(return_X_y=True)\n",
        "X_train, X_test, y_train, y_test = train_test_split(X, y, test_size=0.3, random_state=42)\n",
        "\n",
        "ovr_model = OneVsRestClassifier(SVC(kernel='linear'))\n",
        "ovo_model = OneVsOneClassifier(SVC(kernel='linear'))\n",
        "\n",
        "ovr_model.fit(X_train, y_train)\n",
        "ovo_model.fit(X_train, y_train)\n",
        "\n",
        "print(\"OvR Accuracy:\", accuracy_score(y_test, ovr_model.predict(X_test)))\n",
        "print(\"OvO Accuracy:\", accuracy_score(y_test, ovo_model.predict(X_test)))"
      ],
      "metadata": {
        "colab": {
          "base_uri": "https://localhost:8080/"
        },
        "id": "WsA3ZNpSmtdl",
        "outputId": "191ebaef-c04b-4d9f-aad7-37d91a994e94"
      },
      "execution_count": null,
      "outputs": [
        {
          "output_type": "stream",
          "name": "stdout",
          "text": [
            "OvR Accuracy: 0.9814814814814815\n",
            "OvO Accuracy: 0.9814814814814815\n"
          ]
        }
      ]
    },
    {
      "cell_type": "code",
      "source": [
        "# SVM with Linear, Polynomial, and RBF Kernels on Breast Cancer Dataset\n",
        "from sklearn.datasets import load_breast_cancer\n",
        "from sklearn.metrics import accuracy_score\n",
        "\n",
        "X, y = load_breast_cancer(return_X_y=True)\n",
        "X_train, X_test, y_train, y_test = train_test_split(X, y, test_size=0.3, random_state=42)\n",
        "\n",
        "kernels = ['linear', 'poly', 'rbf']\n",
        "for k in kernels:\n",
        "    model = SVC(kernel=k)\n",
        "    model.fit(X_train, y_train)\n",
        "    acc = accuracy_score(y_test, model.predict(X_test))\n",
        "    print(f\"{k.capitalize()} Kernel Accuracy: {acc:.2f}\")"
      ],
      "metadata": {
        "colab": {
          "base_uri": "https://localhost:8080/"
        },
        "id": "N5ptB-TUm6xT",
        "outputId": "6366e9ca-a1b9-4980-a293-5e6bf9cd132f"
      },
      "execution_count": null,
      "outputs": [
        {
          "output_type": "stream",
          "name": "stdout",
          "text": [
            "Linear Kernel Accuracy: 0.96\n",
            "Poly Kernel Accuracy: 0.94\n",
            "Rbf Kernel Accuracy: 0.94\n"
          ]
        }
      ]
    },
    {
      "cell_type": "code",
      "source": [
        "# SVM with Stratified K-Fold Cross-Validation\n",
        "from sklearn.model_selection import StratifiedKFold, cross_val_score\n",
        "\n",
        "skf = StratifiedKFold(n_splits=5, shuffle=True, random_state=42)\n",
        "model = SVC(kernel='linear')\n",
        "scores = cross_val_score(model, X, y, cv=skf)\n",
        "\n",
        "print(\"Cross-Validated Accuracies:\", scores)\n",
        "print(\"Average Accuracy:\", scores.mean())"
      ],
      "metadata": {
        "colab": {
          "base_uri": "https://localhost:8080/"
        },
        "id": "PGU83dvGm-bD",
        "outputId": "7b564a3e-fdcf-42ec-8292-1a36a61b0f0a"
      },
      "execution_count": null,
      "outputs": [
        {
          "output_type": "stream",
          "name": "stdout",
          "text": [
            "Cross-Validated Accuracies: [0.94736842 0.92982456 0.95614035 0.93859649 0.96460177]\n",
            "Average Accuracy: 0.9473063188945815\n"
          ]
        }
      ]
    },
    {
      "cell_type": "code",
      "source": [
        "#  Naïve Bayes with Different Prior Probabilities\n",
        "from sklearn.naive_bayes import GaussianNB\n",
        "\n",
        "# Use manually defined priors\n",
        "priors1 = [0.5, 0.5]\n",
        "priors2 = [0.9, 0.1]\n",
        "\n",
        "model1 = GaussianNB(priors=priors1)\n",
        "model2 = GaussianNB(priors=priors2)\n",
        "\n",
        "model1.fit(X_train, y_train)\n",
        "model2.fit(X_train, y_train)\n",
        "\n",
        "print(\"Accuracy with priors [0.5, 0.5]:\", accuracy_score(y_test, model1.predict(X_test)))\n",
        "print(\"Accuracy with priors [0.9, 0.1]:\", accuracy_score(y_test, model2.predict(X_test)))"
      ],
      "metadata": {
        "colab": {
          "base_uri": "https://localhost:8080/"
        },
        "id": "9rZWGjzWnDxq",
        "outputId": "0a7a9a58-d73e-455b-a980-e9c6a8f3f090"
      },
      "execution_count": null,
      "outputs": [
        {
          "output_type": "stream",
          "name": "stdout",
          "text": [
            "Accuracy with priors [0.5, 0.5]: 0.9415204678362573\n",
            "Accuracy with priors [0.9, 0.1]: 0.935672514619883\n"
          ]
        }
      ]
    },
    {
      "cell_type": "code",
      "source": [
        "#  SVM with Stratified K-Fold Cross-Validation\n",
        "from sklearn.model_selection import StratifiedKFold, cross_val_score\n",
        "\n",
        "skf = StratifiedKFold(n_splits=5, shuffle=True, random_state=42)\n",
        "model = SVC(kernel='linear')\n",
        "scores = cross_val_score(model, X, y, cv=skf)\n",
        "\n",
        "print(\"Cross-Validated Accuracies:\", scores)\n",
        "print(\"Average Accuracy:\", scores.mean())"
      ],
      "metadata": {
        "colab": {
          "base_uri": "https://localhost:8080/"
        },
        "id": "vDa6J7ufnMTG",
        "outputId": "62cfbdb6-fc3f-44eb-811e-fd971f9e3af9"
      },
      "execution_count": null,
      "outputs": [
        {
          "output_type": "stream",
          "name": "stdout",
          "text": [
            "Cross-Validated Accuracies: [0.94736842 0.92982456 0.95614035 0.93859649 0.96460177]\n",
            "Average Accuracy: 0.9473063188945815\n"
          ]
        }
      ]
    },
    {
      "cell_type": "code",
      "source": [
        "# Naïve Bayes with Different Prior Probabilities\n",
        "from sklearn.naive_bayes import GaussianNB\n",
        "\n",
        "# Use manually defined priors\n",
        "priors1 = [0.5, 0.5]\n",
        "priors2 = [0.9, 0.1]\n",
        "\n",
        "model1 = GaussianNB(priors=priors1)\n",
        "model2 = GaussianNB(priors=priors2)\n",
        "\n",
        "model1.fit(X_train, y_train)\n",
        "model2.fit(X_train, y_train)\n",
        "\n",
        "print(\"Accuracy with priors [0.5, 0.5]:\", accuracy_score(y_test, model1.predict(X_test)))\n",
        "print(\"Accuracy with priors [0.9, 0.1]:\", accuracy_score(y_test, model2.predict(X_test)))"
      ],
      "metadata": {
        "colab": {
          "base_uri": "https://localhost:8080/"
        },
        "id": "rRG3cEG0nUjP",
        "outputId": "8a506052-50eb-4375-bd3f-55b7b71ba5d2"
      },
      "execution_count": null,
      "outputs": [
        {
          "output_type": "stream",
          "name": "stdout",
          "text": [
            "Accuracy with priors [0.5, 0.5]: 0.9415204678362573\n",
            "Accuracy with priors [0.9, 0.1]: 0.935672514619883\n"
          ]
        }
      ]
    },
    {
      "cell_type": "code",
      "source": [
        "# Recursive Feature Elimination (RFE) before SVM\n",
        "from sklearn.feature_selection import RFE\n",
        "\n",
        "base_model = SVC(kernel='linear')\n",
        "rfe = RFE(base_model, n_features_to_select=10)\n",
        "rfe.fit(X_train, y_train)\n",
        "\n",
        "print(\"Accuracy with RFE:\", accuracy_score(y_test, rfe.predict(X_test)))\n",
        "\n",
        "# Without RFE\n",
        "base_model.fit(X_train, y_train)\n",
        "print(\"Accuracy without RFE:\", accuracy_score(y_test, base_model.predict(X_test)))"
      ],
      "metadata": {
        "colab": {
          "base_uri": "https://localhost:8080/"
        },
        "id": "7IMvkQKDnXm7",
        "outputId": "c6a209f0-c34b-4bc4-fc10-b48aa564bbe9"
      },
      "execution_count": null,
      "outputs": [
        {
          "output_type": "stream",
          "name": "stdout",
          "text": [
            "Accuracy with RFE: 0.9298245614035088\n",
            "Accuracy without RFE: 0.9649122807017544\n"
          ]
        }
      ]
    },
    {
      "cell_type": "code",
      "source": [
        "# SVM with Precision, Recall, and F1 Score\n",
        "from sklearn.metrics import precision_score, recall_score, f1_score\n",
        "\n",
        "svm_model = SVC()\n",
        "svm_model.fit(X_train, y_train)\n",
        "y_pred = svm_model.predict(X_test)\n",
        "\n",
        "print(\"Precision:\", precision_score(y_test, y_pred))\n",
        "print(\"Recall:\", recall_score(y_test, y_pred))\n",
        "print(\"F1 Score:\", f1_score(y_test, y_pred))"
      ],
      "metadata": {
        "colab": {
          "base_uri": "https://localhost:8080/"
        },
        "id": "Ak2NPdyHnbjt",
        "outputId": "51955285-2dd1-423a-f2c4-e3ff7b44d3f1"
      },
      "execution_count": null,
      "outputs": [
        {
          "output_type": "stream",
          "name": "stdout",
          "text": [
            "Precision: 0.907563025210084\n",
            "Recall: 1.0\n",
            "F1 Score: 0.9515418502202643\n"
          ]
        }
      ]
    },
    {
      "cell_type": "code",
      "source": [
        "# Naïve Bayes with Log Loss\n",
        "from sklearn.metrics import log_loss\n",
        "\n",
        "nb_model = GaussianNB()\n",
        "nb_model.fit(X_train, y_train)\n",
        "probs = nb_model.predict_proba(X_test)\n",
        "\n",
        "print(\"Log Loss:\", log_loss(y_test, probs))"
      ],
      "metadata": {
        "colab": {
          "base_uri": "https://localhost:8080/"
        },
        "id": "mK4uSPBYngWK",
        "outputId": "ded61d36-5942-4188-8bdf-74331f2e48ad"
      },
      "execution_count": null,
      "outputs": [
        {
          "output_type": "stream",
          "name": "stdout",
          "text": [
            "Log Loss: 0.48986013210958873\n"
          ]
        }
      ]
    },
    {
      "cell_type": "code",
      "source": [
        "# SVM Classifier – Confusion Matrix with Seaborn\n",
        "import seaborn as sns\n",
        "from sklearn.metrics import confusion_matrix\n",
        "import matplotlib.pyplot as plt\n",
        "\n",
        "conf = confusion_matrix(y_test, y_pred)\n",
        "sns.heatmap(conf, annot=True, fmt='d', cmap='Blues')\n",
        "plt.title(\"Confusion Matrix\")\n",
        "plt.xlabel(\"Predicted\")\n",
        "plt.ylabel(\"Actual\")\n",
        "plt.show()"
      ],
      "metadata": {
        "colab": {
          "base_uri": "https://localhost:8080/",
          "height": 472
        },
        "id": "ZlsYQ5ztnkLT",
        "outputId": "17d28851-ce71-4737-ecd9-3d865c7a9e42"
      },
      "execution_count": null,
      "outputs": [
        {
          "output_type": "display_data",
          "data": {
            "text/plain": [
              "<Figure size 640x480 with 2 Axes>"
            ],
            "image/png": "[encoded data removed]"
          },
          "metadata": {}
        }
      ]
    },
    {
      "cell_type": "code",
      "source": [
        "# SVR with Mean Absolute Error (MAE)\n",
        "from sklearn.metrics import mean_absolute_error\n",
        "from sklearn.datasets import fetch_california_housing\n",
        "from sklearn.svm import SVR\n",
        "\n",
        "X, y = fetch_california_housing(return_X_y=True)\n",
        "X_train, X_test, y_train, y_test = train_test_split(X, y, test_size=0.2)\n",
        "\n",
        "model = SVR()\n",
        "model.fit(X_train, y_train)\n",
        "y_pred = model.predict(X_test)\n",
        "\n",
        "print(\"Mean Absolute Error:\", mean_absolute_error(y_test, y_pred))"
      ],
      "metadata": {
        "colab": {
          "base_uri": "https://localhost:8080/"
        },
        "id": "n6pF1IvvnqCB",
        "outputId": "d829d374-c034-4df0-b79c-f2513ae206ae"
      },
      "execution_count": null,
      "outputs": [
        {
          "output_type": "stream",
          "name": "stdout",
          "text": [
            "Mean Absolute Error: 0.8648908409133058\n"
          ]
        }
      ]
    }
  ]
}