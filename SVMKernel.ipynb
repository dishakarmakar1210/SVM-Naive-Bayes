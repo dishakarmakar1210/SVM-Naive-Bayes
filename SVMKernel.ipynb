{
 "cells": [
  {
   "cell_type": "code",
   "execution_count": 87,
   "id": "4e8ee916",
   "metadata": {},
   "outputs": [],
   "source": [
    "import pandas as pd \n",
    "import numpy as np \n",
    "import seaborn as sns\n",
    "import matplotlib.pyplot as plt \n",
    "import warnings\n",
    "warnings.filterwarnings(\"ignore\")"
   ]
  },
  {
   "cell_type": "code",
   "execution_count": 88,
   "id": "3be78d47",
   "metadata": {},
   "outputs": [
    {
     "data": {
      "text/plain": [
       "array([-6.        , -5.87878788, -5.75757576, -5.63636364, -5.51515152,\n",
       "       -5.39393939, -5.27272727, -5.15151515, -5.03030303, -4.90909091,\n",
       "       -4.78787879, -4.66666667, -4.54545455, -4.42424242, -4.3030303 ,\n",
       "       -4.18181818, -4.06060606, -3.93939394, -3.81818182, -3.6969697 ,\n",
       "       -3.57575758, -3.45454545, -3.33333333, -3.21212121, -3.09090909,\n",
       "       -2.96969697, -2.84848485, -2.72727273, -2.60606061, -2.48484848,\n",
       "       -2.36363636, -2.24242424, -2.12121212, -2.        , -1.87878788,\n",
       "       -1.75757576, -1.63636364, -1.51515152, -1.39393939, -1.27272727,\n",
       "       -1.15151515, -1.03030303, -0.90909091, -0.78787879, -0.66666667,\n",
       "       -0.54545455, -0.42424242, -0.3030303 , -0.18181818, -0.06060606,\n",
       "        0.06060606,  0.18181818,  0.3030303 ,  0.42424242,  0.54545455,\n",
       "        0.66666667,  0.78787879,  0.90909091,  1.03030303,  1.15151515,\n",
       "        1.27272727,  1.39393939,  1.51515152,  1.63636364,  1.75757576,\n",
       "        1.87878788,  2.        ,  2.12121212,  2.24242424,  2.36363636,\n",
       "        2.48484848,  2.60606061,  2.72727273,  2.84848485,  2.96969697,\n",
       "        3.09090909,  3.21212121,  3.33333333,  3.45454545,  3.57575758,\n",
       "        3.6969697 ,  3.81818182,  3.93939394,  4.06060606,  4.18181818,\n",
       "        4.3030303 ,  4.42424242,  4.54545455,  4.66666667,  4.78787879,\n",
       "        4.90909091,  5.03030303,  5.15151515,  5.27272727,  5.39393939,\n",
       "        5.51515152,  5.63636364,  5.75757576,  5.87878788,  6.        ])"
      ]
     },
     "execution_count": 88,
     "metadata": {},
     "output_type": "execute_result"
    }
   ],
   "source": [
    "X = np.linspace(-6,6,  100)\n",
    "y = np.sqrt(10**2 - X**2)\n",
    "X"
   ]
  },
  {
   "cell_type": "code",
   "execution_count": 89,
   "id": "c34b99c9",
   "metadata": {},
   "outputs": [
    {
     "data": {
      "text/plain": [
       "array([8.        , 8.08949029, 8.17620458, 8.26023032, 8.34164874,\n",
       "       8.42053548, 8.49696105, 8.57099129, 8.64268774, 8.71210804,\n",
       "       8.77930616, 8.84433277, 8.90723543, 8.96805882, 9.02684498,\n",
       "       9.08363345, 9.13846149, 9.19136417, 9.24237457, 9.29152383,\n",
       "       9.33884135, 9.38435484, 9.42809042, 9.47007272, 9.51032497,\n",
       "       9.54886904, 9.58572554, 9.62091386, 9.65445224, 9.68635783,\n",
       "       9.7166467 , 9.74533394, 9.77243363, 9.79795897, 9.82192222,\n",
       "       9.84433479, 9.86520725, 9.88454935, 9.90237007, 9.9186776 ,\n",
       "       9.93347939, 9.94678218, 9.95859195, 9.96891403, 9.97775303,\n",
       "       9.98511289, 9.99099687, 9.99540758, 9.99834697, 9.99981634,\n",
       "       9.99981634, 9.99834697, 9.99540758, 9.99099687, 9.98511289,\n",
       "       9.97775303, 9.96891403, 9.95859195, 9.94678218, 9.93347939,\n",
       "       9.9186776 , 9.90237007, 9.88454935, 9.86520725, 9.84433479,\n",
       "       9.82192222, 9.79795897, 9.77243363, 9.74533394, 9.7166467 ,\n",
       "       9.68635783, 9.65445224, 9.62091386, 9.58572554, 9.54886904,\n",
       "       9.51032497, 9.47007272, 9.42809042, 9.38435484, 9.33884135,\n",
       "       9.29152383, 9.24237457, 9.19136417, 9.13846149, 9.08363345,\n",
       "       9.02684498, 8.96805882, 8.90723543, 8.84433277, 8.77930616,\n",
       "       8.71210804, 8.64268774, 8.57099129, 8.49696105, 8.42053548,\n",
       "       8.34164874, 8.26023032, 8.17620458, 8.08949029, 8.        ])"
      ]
     },
     "execution_count": 89,
     "metadata": {},
     "output_type": "execute_result"
    }
   ],
   "source": [
    "y"
   ]
  },
  {
   "cell_type": "code",
   "execution_count": 90,
   "id": "e3863c74",
   "metadata": {},
   "outputs": [
    {
     "data": {
      "text/plain": [
       "array([-6.        , -5.87878788, -5.75757576, -5.63636364, -5.51515152,\n",
       "       -5.39393939, -5.27272727, -5.15151515, -5.03030303, -4.90909091,\n",
       "       -4.78787879, -4.66666667, -4.54545455, -4.42424242, -4.3030303 ,\n",
       "       -4.18181818, -4.06060606, -3.93939394, -3.81818182, -3.6969697 ,\n",
       "       -3.57575758, -3.45454545, -3.33333333, -3.21212121, -3.09090909,\n",
       "       -2.96969697, -2.84848485, -2.72727273, -2.60606061, -2.48484848,\n",
       "       -2.36363636, -2.24242424, -2.12121212, -2.        , -1.87878788,\n",
       "       -1.75757576, -1.63636364, -1.51515152, -1.39393939, -1.27272727,\n",
       "       -1.15151515, -1.03030303, -0.90909091, -0.78787879, -0.66666667,\n",
       "       -0.54545455, -0.42424242, -0.3030303 , -0.18181818, -0.06060606,\n",
       "        0.06060606,  0.18181818,  0.3030303 ,  0.42424242,  0.54545455,\n",
       "        0.66666667,  0.78787879,  0.90909091,  1.03030303,  1.15151515,\n",
       "        1.27272727,  1.39393939,  1.51515152,  1.63636364,  1.75757576,\n",
       "        1.87878788,  2.        ,  2.12121212,  2.24242424,  2.36363636,\n",
       "        2.48484848,  2.60606061,  2.72727273,  2.84848485,  2.96969697,\n",
       "        3.09090909,  3.21212121,  3.33333333,  3.45454545,  3.57575758,\n",
       "        3.6969697 ,  3.81818182,  3.93939394,  4.06060606,  4.18181818,\n",
       "        4.3030303 ,  4.42424242,  4.54545455,  4.66666667,  4.78787879,\n",
       "        4.90909091,  5.03030303,  5.15151515,  5.27272727,  5.39393939,\n",
       "        5.51515152,  5.63636364,  5.75757576,  5.87878788,  6.        ,\n",
       "        6.        ,  5.87878788,  5.75757576,  5.63636364,  5.51515152,\n",
       "        5.39393939,  5.27272727,  5.15151515,  5.03030303,  4.90909091,\n",
       "        4.78787879,  4.66666667,  4.54545455,  4.42424242,  4.3030303 ,\n",
       "        4.18181818,  4.06060606,  3.93939394,  3.81818182,  3.6969697 ,\n",
       "        3.57575758,  3.45454545,  3.33333333,  3.21212121,  3.09090909,\n",
       "        2.96969697,  2.84848485,  2.72727273,  2.60606061,  2.48484848,\n",
       "        2.36363636,  2.24242424,  2.12121212,  2.        ,  1.87878788,\n",
       "        1.75757576,  1.63636364,  1.51515152,  1.39393939,  1.27272727,\n",
       "        1.15151515,  1.03030303,  0.90909091,  0.78787879,  0.66666667,\n",
       "        0.54545455,  0.42424242,  0.3030303 ,  0.18181818,  0.06060606,\n",
       "       -0.06060606, -0.18181818, -0.3030303 , -0.42424242, -0.54545455,\n",
       "       -0.66666667, -0.78787879, -0.90909091, -1.03030303, -1.15151515,\n",
       "       -1.27272727, -1.39393939, -1.51515152, -1.63636364, -1.75757576,\n",
       "       -1.87878788, -2.        , -2.12121212, -2.24242424, -2.36363636,\n",
       "       -2.48484848, -2.60606061, -2.72727273, -2.84848485, -2.96969697,\n",
       "       -3.09090909, -3.21212121, -3.33333333, -3.45454545, -3.57575758,\n",
       "       -3.6969697 , -3.81818182, -3.93939394, -4.06060606, -4.18181818,\n",
       "       -4.3030303 , -4.42424242, -4.54545455, -4.66666667, -4.78787879,\n",
       "       -4.90909091, -5.03030303, -5.15151515, -5.27272727, -5.39393939,\n",
       "       -5.51515152, -5.63636364, -5.75757576, -5.87878788, -6.        ])"
      ]
     },
     "execution_count": 90,
     "metadata": {},
     "output_type": "execute_result"
    }
   ],
   "source": [
    "y = np.hstack((y, -y))\n",
    "X = np.hstack((X, -X))\n",
    "X"
   ]
  },
  {
   "cell_type": "code",
   "execution_count": 91,
   "id": "b75be36a",
   "metadata": {},
   "outputs": [
    {
     "data": {
      "text/plain": [
       "array([ 8.        ,  8.08949029,  8.17620458,  8.26023032,  8.34164874,\n",
       "        8.42053548,  8.49696105,  8.57099129,  8.64268774,  8.71210804,\n",
       "        8.77930616,  8.84433277,  8.90723543,  8.96805882,  9.02684498,\n",
       "        9.08363345,  9.13846149,  9.19136417,  9.24237457,  9.29152383,\n",
       "        9.33884135,  9.38435484,  9.42809042,  9.47007272,  9.51032497,\n",
       "        9.54886904,  9.58572554,  9.62091386,  9.65445224,  9.68635783,\n",
       "        9.7166467 ,  9.74533394,  9.77243363,  9.79795897,  9.82192222,\n",
       "        9.84433479,  9.86520725,  9.88454935,  9.90237007,  9.9186776 ,\n",
       "        9.93347939,  9.94678218,  9.95859195,  9.96891403,  9.97775303,\n",
       "        9.98511289,  9.99099687,  9.99540758,  9.99834697,  9.99981634,\n",
       "        9.99981634,  9.99834697,  9.99540758,  9.99099687,  9.98511289,\n",
       "        9.97775303,  9.96891403,  9.95859195,  9.94678218,  9.93347939,\n",
       "        9.9186776 ,  9.90237007,  9.88454935,  9.86520725,  9.84433479,\n",
       "        9.82192222,  9.79795897,  9.77243363,  9.74533394,  9.7166467 ,\n",
       "        9.68635783,  9.65445224,  9.62091386,  9.58572554,  9.54886904,\n",
       "        9.51032497,  9.47007272,  9.42809042,  9.38435484,  9.33884135,\n",
       "        9.29152383,  9.24237457,  9.19136417,  9.13846149,  9.08363345,\n",
       "        9.02684498,  8.96805882,  8.90723543,  8.84433277,  8.77930616,\n",
       "        8.71210804,  8.64268774,  8.57099129,  8.49696105,  8.42053548,\n",
       "        8.34164874,  8.26023032,  8.17620458,  8.08949029,  8.        ,\n",
       "       -8.        , -8.08949029, -8.17620458, -8.26023032, -8.34164874,\n",
       "       -8.42053548, -8.49696105, -8.57099129, -8.64268774, -8.71210804,\n",
       "       -8.77930616, -8.84433277, -8.90723543, -8.96805882, -9.02684498,\n",
       "       -9.08363345, -9.13846149, -9.19136417, -9.24237457, -9.29152383,\n",
       "       -9.33884135, -9.38435484, -9.42809042, -9.47007272, -9.51032497,\n",
       "       -9.54886904, -9.58572554, -9.62091386, -9.65445224, -9.68635783,\n",
       "       -9.7166467 , -9.74533394, -9.77243363, -9.79795897, -9.82192222,\n",
       "       -9.84433479, -9.86520725, -9.88454935, -9.90237007, -9.9186776 ,\n",
       "       -9.93347939, -9.94678218, -9.95859195, -9.96891403, -9.97775303,\n",
       "       -9.98511289, -9.99099687, -9.99540758, -9.99834697, -9.99981634,\n",
       "       -9.99981634, -9.99834697, -9.99540758, -9.99099687, -9.98511289,\n",
       "       -9.97775303, -9.96891403, -9.95859195, -9.94678218, -9.93347939,\n",
       "       -9.9186776 , -9.90237007, -9.88454935, -9.86520725, -9.84433479,\n",
       "       -9.82192222, -9.79795897, -9.77243363, -9.74533394, -9.7166467 ,\n",
       "       -9.68635783, -9.65445224, -9.62091386, -9.58572554, -9.54886904,\n",
       "       -9.51032497, -9.47007272, -9.42809042, -9.38435484, -9.33884135,\n",
       "       -9.29152383, -9.24237457, -9.19136417, -9.13846149, -9.08363345,\n",
       "       -9.02684498, -8.96805882, -8.90723543, -8.84433277, -8.77930616,\n",
       "       -8.71210804, -8.64268774, -8.57099129, -8.49696105, -8.42053548,\n",
       "       -8.34164874, -8.26023032, -8.17620458, -8.08949029, -8.        ])"
      ]
     },
     "execution_count": 91,
     "metadata": {},
     "output_type": "execute_result"
    }
   ],
   "source": [
    "y"
   ]
  },
  {
   "cell_type": "code",
   "execution_count": 92,
   "id": "e1fd3cd7",
   "metadata": {},
   "outputs": [],
   "source": [
    "X1 = np.linspace(-6,6,  100)\n",
    "y1 = np.sqrt(4**2 - X1**2)\n",
    "y1 = np.hstack((y1, -y1))\n",
    "X1 = np.hstack((X1, -X1))"
   ]
  },
  {
   "cell_type": "code",
   "execution_count": 93,
   "id": "478edf58",
   "metadata": {},
   "outputs": [
    {
     "data": {
      "text/plain": [
       "<matplotlib.collections.PathCollection at 0x23473638620>"
      ]
     },
     "execution_count": 93,
     "metadata": {},
     "output_type": "execute_result"
    },
    {
     "data": {
      "image/png": "[encoded data removed]",
      "text/plain": [
       "<Figure size 640x480 with 1 Axes>"
      ]
     },
     "metadata": {},
     "output_type": "display_data"
    }
   ],
   "source": [
    "plt.scatter(X,y)\n",
    "plt.scatter(X1,y1)"
   ]
  },
  {
   "cell_type": "code",
   "execution_count": 94,
   "id": "94e0a797",
   "metadata": {},
   "outputs": [
    {
     "data": {
      "text/html": [
       "<div>\n",
       "<style scoped>\n",
       "    .dataframe tbody tr th:only-of-type {\n",
       "        vertical-align: middle;\n",
       "    }\n",
       "\n",
       "    .dataframe tbody tr th {\n",
       "        vertical-align: top;\n",
       "    }\n",
       "\n",
       "    .dataframe thead th {\n",
       "        text-align: right;\n",
       "    }\n",
       "</style>\n",
       "<table border=\"1\" class=\"dataframe\">\n",
       "  <thead>\n",
       "    <tr style=\"text-align: right;\">\n",
       "      <th></th>\n",
       "      <th>X1</th>\n",
       "      <th>X2</th>\n",
       "      <th>Y</th>\n",
       "    </tr>\n",
       "  </thead>\n",
       "  <tbody>\n",
       "    <tr>\n",
       "      <th>0</th>\n",
       "      <td>8.000000</td>\n",
       "      <td>-6.000000</td>\n",
       "      <td>0</td>\n",
       "    </tr>\n",
       "    <tr>\n",
       "      <th>1</th>\n",
       "      <td>8.089490</td>\n",
       "      <td>-5.878788</td>\n",
       "      <td>0</td>\n",
       "    </tr>\n",
       "    <tr>\n",
       "      <th>2</th>\n",
       "      <td>8.176205</td>\n",
       "      <td>-5.757576</td>\n",
       "      <td>0</td>\n",
       "    </tr>\n",
       "    <tr>\n",
       "      <th>3</th>\n",
       "      <td>8.260230</td>\n",
       "      <td>-5.636364</td>\n",
       "      <td>0</td>\n",
       "    </tr>\n",
       "    <tr>\n",
       "      <th>4</th>\n",
       "      <td>8.341649</td>\n",
       "      <td>-5.515152</td>\n",
       "      <td>0</td>\n",
       "    </tr>\n",
       "    <tr>\n",
       "      <th>...</th>\n",
       "      <td>...</td>\n",
       "      <td>...</td>\n",
       "      <td>...</td>\n",
       "    </tr>\n",
       "    <tr>\n",
       "      <th>195</th>\n",
       "      <td>-8.341649</td>\n",
       "      <td>-5.515152</td>\n",
       "      <td>0</td>\n",
       "    </tr>\n",
       "    <tr>\n",
       "      <th>196</th>\n",
       "      <td>-8.260230</td>\n",
       "      <td>-5.636364</td>\n",
       "      <td>0</td>\n",
       "    </tr>\n",
       "    <tr>\n",
       "      <th>197</th>\n",
       "      <td>-8.176205</td>\n",
       "      <td>-5.757576</td>\n",
       "      <td>0</td>\n",
       "    </tr>\n",
       "    <tr>\n",
       "      <th>198</th>\n",
       "      <td>-8.089490</td>\n",
       "      <td>-5.878788</td>\n",
       "      <td>0</td>\n",
       "    </tr>\n",
       "    <tr>\n",
       "      <th>199</th>\n",
       "      <td>-8.000000</td>\n",
       "      <td>-6.000000</td>\n",
       "      <td>0</td>\n",
       "    </tr>\n",
       "  </tbody>\n",
       "</table>\n",
       "<p>200 rows × 3 columns</p>\n",
       "</div>"
      ],
      "text/plain": [
       "           X1        X2  Y\n",
       "0    8.000000 -6.000000  0\n",
       "1    8.089490 -5.878788  0\n",
       "2    8.176205 -5.757576  0\n",
       "3    8.260230 -5.636364  0\n",
       "4    8.341649 -5.515152  0\n",
       "..        ...       ... ..\n",
       "195 -8.341649 -5.515152  0\n",
       "196 -8.260230 -5.636364  0\n",
       "197 -8.176205 -5.757576  0\n",
       "198 -8.089490 -5.878788  0\n",
       "199 -8.000000 -6.000000  0\n",
       "\n",
       "[200 rows x 3 columns]"
      ]
     },
     "execution_count": 94,
     "metadata": {},
     "output_type": "execute_result"
    }
   ],
   "source": [
    "df1 = pd.DataFrame(np.vstack([y,X]).T, columns = [\"X1\", \"X2\"])\n",
    "df1[\"Y\"] = 0\n",
    "df1"
   ]
  },
  {
   "cell_type": "code",
   "execution_count": 95,
   "id": "732fa5d4",
   "metadata": {},
   "outputs": [
    {
     "data": {
      "text/html": [
       "<div>\n",
       "<style scoped>\n",
       "    .dataframe tbody tr th:only-of-type {\n",
       "        vertical-align: middle;\n",
       "    }\n",
       "\n",
       "    .dataframe tbody tr th {\n",
       "        vertical-align: top;\n",
       "    }\n",
       "\n",
       "    .dataframe thead th {\n",
       "        text-align: right;\n",
       "    }\n",
       "</style>\n",
       "<table border=\"1\" class=\"dataframe\">\n",
       "  <thead>\n",
       "    <tr style=\"text-align: right;\">\n",
       "      <th></th>\n",
       "      <th>X1</th>\n",
       "      <th>X2</th>\n",
       "      <th>Y</th>\n",
       "    </tr>\n",
       "  </thead>\n",
       "  <tbody>\n",
       "    <tr>\n",
       "      <th>0</th>\n",
       "      <td>NaN</td>\n",
       "      <td>-6.000000</td>\n",
       "      <td>1</td>\n",
       "    </tr>\n",
       "    <tr>\n",
       "      <th>1</th>\n",
       "      <td>NaN</td>\n",
       "      <td>-5.878788</td>\n",
       "      <td>1</td>\n",
       "    </tr>\n",
       "    <tr>\n",
       "      <th>2</th>\n",
       "      <td>NaN</td>\n",
       "      <td>-5.757576</td>\n",
       "      <td>1</td>\n",
       "    </tr>\n",
       "    <tr>\n",
       "      <th>3</th>\n",
       "      <td>NaN</td>\n",
       "      <td>-5.636364</td>\n",
       "      <td>1</td>\n",
       "    </tr>\n",
       "    <tr>\n",
       "      <th>4</th>\n",
       "      <td>NaN</td>\n",
       "      <td>-5.515152</td>\n",
       "      <td>1</td>\n",
       "    </tr>\n",
       "    <tr>\n",
       "      <th>...</th>\n",
       "      <td>...</td>\n",
       "      <td>...</td>\n",
       "      <td>...</td>\n",
       "    </tr>\n",
       "    <tr>\n",
       "      <th>195</th>\n",
       "      <td>NaN</td>\n",
       "      <td>-5.515152</td>\n",
       "      <td>1</td>\n",
       "    </tr>\n",
       "    <tr>\n",
       "      <th>196</th>\n",
       "      <td>NaN</td>\n",
       "      <td>-5.636364</td>\n",
       "      <td>1</td>\n",
       "    </tr>\n",
       "    <tr>\n",
       "      <th>197</th>\n",
       "      <td>NaN</td>\n",
       "      <td>-5.757576</td>\n",
       "      <td>1</td>\n",
       "    </tr>\n",
       "    <tr>\n",
       "      <th>198</th>\n",
       "      <td>NaN</td>\n",
       "      <td>-5.878788</td>\n",
       "      <td>1</td>\n",
       "    </tr>\n",
       "    <tr>\n",
       "      <th>199</th>\n",
       "      <td>NaN</td>\n",
       "      <td>-6.000000</td>\n",
       "      <td>1</td>\n",
       "    </tr>\n",
       "  </tbody>\n",
       "</table>\n",
       "<p>200 rows × 3 columns</p>\n",
       "</div>"
      ],
      "text/plain": [
       "     X1        X2  Y\n",
       "0   NaN -6.000000  1\n",
       "1   NaN -5.878788  1\n",
       "2   NaN -5.757576  1\n",
       "3   NaN -5.636364  1\n",
       "4   NaN -5.515152  1\n",
       "..   ..       ... ..\n",
       "195 NaN -5.515152  1\n",
       "196 NaN -5.636364  1\n",
       "197 NaN -5.757576  1\n",
       "198 NaN -5.878788  1\n",
       "199 NaN -6.000000  1\n",
       "\n",
       "[200 rows x 3 columns]"
      ]
     },
     "execution_count": 95,
     "metadata": {},
     "output_type": "execute_result"
    }
   ],
   "source": [
    "df2 = pd.DataFrame(np.vstack([y1,X1]).T, columns = [\"X1\", \"X2\"])\n",
    "df2[\"Y\"] = 1\n",
    "df2"
   ]
  },
  {
   "cell_type": "code",
   "execution_count": 96,
   "id": "0f381dc7",
   "metadata": {},
   "outputs": [
    {
     "data": {
      "text/html": [
       "<div>\n",
       "<style scoped>\n",
       "    .dataframe tbody tr th:only-of-type {\n",
       "        vertical-align: middle;\n",
       "    }\n",
       "\n",
       "    .dataframe tbody tr th {\n",
       "        vertical-align: top;\n",
       "    }\n",
       "\n",
       "    .dataframe thead th {\n",
       "        text-align: right;\n",
       "    }\n",
       "</style>\n",
       "<table border=\"1\" class=\"dataframe\">\n",
       "  <thead>\n",
       "    <tr style=\"text-align: right;\">\n",
       "      <th></th>\n",
       "      <th>X1</th>\n",
       "      <th>X2</th>\n",
       "      <th>Y</th>\n",
       "    </tr>\n",
       "  </thead>\n",
       "  <tbody>\n",
       "    <tr>\n",
       "      <th>0</th>\n",
       "      <td>8.000000</td>\n",
       "      <td>-6.000000</td>\n",
       "      <td>0</td>\n",
       "    </tr>\n",
       "    <tr>\n",
       "      <th>1</th>\n",
       "      <td>8.089490</td>\n",
       "      <td>-5.878788</td>\n",
       "      <td>0</td>\n",
       "    </tr>\n",
       "    <tr>\n",
       "      <th>2</th>\n",
       "      <td>8.176205</td>\n",
       "      <td>-5.757576</td>\n",
       "      <td>0</td>\n",
       "    </tr>\n",
       "    <tr>\n",
       "      <th>3</th>\n",
       "      <td>8.260230</td>\n",
       "      <td>-5.636364</td>\n",
       "      <td>0</td>\n",
       "    </tr>\n",
       "    <tr>\n",
       "      <th>4</th>\n",
       "      <td>8.341649</td>\n",
       "      <td>-5.515152</td>\n",
       "      <td>0</td>\n",
       "    </tr>\n",
       "    <tr>\n",
       "      <th>...</th>\n",
       "      <td>...</td>\n",
       "      <td>...</td>\n",
       "      <td>...</td>\n",
       "    </tr>\n",
       "    <tr>\n",
       "      <th>395</th>\n",
       "      <td>NaN</td>\n",
       "      <td>-5.515152</td>\n",
       "      <td>1</td>\n",
       "    </tr>\n",
       "    <tr>\n",
       "      <th>396</th>\n",
       "      <td>NaN</td>\n",
       "      <td>-5.636364</td>\n",
       "      <td>1</td>\n",
       "    </tr>\n",
       "    <tr>\n",
       "      <th>397</th>\n",
       "      <td>NaN</td>\n",
       "      <td>-5.757576</td>\n",
       "      <td>1</td>\n",
       "    </tr>\n",
       "    <tr>\n",
       "      <th>398</th>\n",
       "      <td>NaN</td>\n",
       "      <td>-5.878788</td>\n",
       "      <td>1</td>\n",
       "    </tr>\n",
       "    <tr>\n",
       "      <th>399</th>\n",
       "      <td>NaN</td>\n",
       "      <td>-6.000000</td>\n",
       "      <td>1</td>\n",
       "    </tr>\n",
       "  </tbody>\n",
       "</table>\n",
       "<p>400 rows × 3 columns</p>\n",
       "</div>"
      ],
      "text/plain": [
       "           X1        X2  Y\n",
       "0    8.000000 -6.000000  0\n",
       "1    8.089490 -5.878788  0\n",
       "2    8.176205 -5.757576  0\n",
       "3    8.260230 -5.636364  0\n",
       "4    8.341649 -5.515152  0\n",
       "..        ...       ... ..\n",
       "395       NaN -5.515152  1\n",
       "396       NaN -5.636364  1\n",
       "397       NaN -5.757576  1\n",
       "398       NaN -5.878788  1\n",
       "399       NaN -6.000000  1\n",
       "\n",
       "[400 rows x 3 columns]"
      ]
     },
     "execution_count": 96,
     "metadata": {},
     "output_type": "execute_result"
    }
   ],
   "source": [
    "df = pd.concat([df1, df2], ignore_index=True)\n",
    "df"
   ]
  },
  {
   "cell_type": "code",
   "execution_count": 97,
   "id": "58a37888",
   "metadata": {},
   "outputs": [
    {
     "data": {
      "text/html": [
       "<div>\n",
       "<style scoped>\n",
       "    .dataframe tbody tr th:only-of-type {\n",
       "        vertical-align: middle;\n",
       "    }\n",
       "\n",
       "    .dataframe tbody tr th {\n",
       "        vertical-align: top;\n",
       "    }\n",
       "\n",
       "    .dataframe thead th {\n",
       "        text-align: right;\n",
       "    }\n",
       "</style>\n",
       "<table border=\"1\" class=\"dataframe\">\n",
       "  <thead>\n",
       "    <tr style=\"text-align: right;\">\n",
       "      <th></th>\n",
       "      <th>X1</th>\n",
       "      <th>X2</th>\n",
       "      <th>Y</th>\n",
       "    </tr>\n",
       "  </thead>\n",
       "  <tbody>\n",
       "    <tr>\n",
       "      <th>0</th>\n",
       "      <td>8.000000</td>\n",
       "      <td>-6.000000</td>\n",
       "      <td>0</td>\n",
       "    </tr>\n",
       "    <tr>\n",
       "      <th>1</th>\n",
       "      <td>8.089490</td>\n",
       "      <td>-5.878788</td>\n",
       "      <td>0</td>\n",
       "    </tr>\n",
       "    <tr>\n",
       "      <th>2</th>\n",
       "      <td>8.176205</td>\n",
       "      <td>-5.757576</td>\n",
       "      <td>0</td>\n",
       "    </tr>\n",
       "    <tr>\n",
       "      <th>3</th>\n",
       "      <td>8.260230</td>\n",
       "      <td>-5.636364</td>\n",
       "      <td>0</td>\n",
       "    </tr>\n",
       "    <tr>\n",
       "      <th>4</th>\n",
       "      <td>8.341649</td>\n",
       "      <td>-5.515152</td>\n",
       "      <td>0</td>\n",
       "    </tr>\n",
       "    <tr>\n",
       "      <th>...</th>\n",
       "      <td>...</td>\n",
       "      <td>...</td>\n",
       "      <td>...</td>\n",
       "    </tr>\n",
       "    <tr>\n",
       "      <th>395</th>\n",
       "      <td>NaN</td>\n",
       "      <td>-5.515152</td>\n",
       "      <td>1</td>\n",
       "    </tr>\n",
       "    <tr>\n",
       "      <th>396</th>\n",
       "      <td>NaN</td>\n",
       "      <td>-5.636364</td>\n",
       "      <td>1</td>\n",
       "    </tr>\n",
       "    <tr>\n",
       "      <th>397</th>\n",
       "      <td>NaN</td>\n",
       "      <td>-5.757576</td>\n",
       "      <td>1</td>\n",
       "    </tr>\n",
       "    <tr>\n",
       "      <th>398</th>\n",
       "      <td>NaN</td>\n",
       "      <td>-5.878788</td>\n",
       "      <td>1</td>\n",
       "    </tr>\n",
       "    <tr>\n",
       "      <th>399</th>\n",
       "      <td>NaN</td>\n",
       "      <td>-6.000000</td>\n",
       "      <td>1</td>\n",
       "    </tr>\n",
       "  </tbody>\n",
       "</table>\n",
       "<p>400 rows × 3 columns</p>\n",
       "</div>"
      ],
      "text/plain": [
       "           X1        X2  Y\n",
       "0    8.000000 -6.000000  0\n",
       "1    8.089490 -5.878788  0\n",
       "2    8.176205 -5.757576  0\n",
       "3    8.260230 -5.636364  0\n",
       "4    8.341649 -5.515152  0\n",
       "..        ...       ... ..\n",
       "395       NaN -5.515152  1\n",
       "396       NaN -5.636364  1\n",
       "397       NaN -5.757576  1\n",
       "398       NaN -5.878788  1\n",
       "399       NaN -6.000000  1\n",
       "\n",
       "[400 rows x 3 columns]"
      ]
     },
     "execution_count": 97,
     "metadata": {},
     "output_type": "execute_result"
    }
   ],
   "source": [
    "df1 = df.copy()\n",
    "df1 "
   ]
  },
  {
   "cell_type": "code",
   "execution_count": 98,
   "id": "411f0a8a",
   "metadata": {},
   "outputs": [
    {
     "data": {
      "text/html": [
       "<div>\n",
       "<style scoped>\n",
       "    .dataframe tbody tr th:only-of-type {\n",
       "        vertical-align: middle;\n",
       "    }\n",
       "\n",
       "    .dataframe tbody tr th {\n",
       "        vertical-align: top;\n",
       "    }\n",
       "\n",
       "    .dataframe thead th {\n",
       "        text-align: right;\n",
       "    }\n",
       "</style>\n",
       "<table border=\"1\" class=\"dataframe\">\n",
       "  <thead>\n",
       "    <tr style=\"text-align: right;\">\n",
       "      <th></th>\n",
       "      <th>X1</th>\n",
       "      <th>X2</th>\n",
       "      <th>Y</th>\n",
       "      <th>X1Squared</th>\n",
       "      <th>X2Squared</th>\n",
       "      <th>X1X2</th>\n",
       "    </tr>\n",
       "  </thead>\n",
       "  <tbody>\n",
       "    <tr>\n",
       "      <th>0</th>\n",
       "      <td>8.000000</td>\n",
       "      <td>-6.000000</td>\n",
       "      <td>0</td>\n",
       "      <td>64.000000</td>\n",
       "      <td>36.000000</td>\n",
       "      <td>-48.000000</td>\n",
       "    </tr>\n",
       "    <tr>\n",
       "      <th>1</th>\n",
       "      <td>8.089490</td>\n",
       "      <td>-5.878788</td>\n",
       "      <td>0</td>\n",
       "      <td>65.439853</td>\n",
       "      <td>34.560147</td>\n",
       "      <td>-47.556397</td>\n",
       "    </tr>\n",
       "    <tr>\n",
       "      <th>2</th>\n",
       "      <td>8.176205</td>\n",
       "      <td>-5.757576</td>\n",
       "      <td>0</td>\n",
       "      <td>66.850321</td>\n",
       "      <td>33.149679</td>\n",
       "      <td>-47.075117</td>\n",
       "    </tr>\n",
       "    <tr>\n",
       "      <th>3</th>\n",
       "      <td>8.260230</td>\n",
       "      <td>-5.636364</td>\n",
       "      <td>0</td>\n",
       "      <td>68.231405</td>\n",
       "      <td>31.768595</td>\n",
       "      <td>-46.557662</td>\n",
       "    </tr>\n",
       "    <tr>\n",
       "      <th>4</th>\n",
       "      <td>8.341649</td>\n",
       "      <td>-5.515152</td>\n",
       "      <td>0</td>\n",
       "      <td>69.583104</td>\n",
       "      <td>30.416896</td>\n",
       "      <td>-46.005457</td>\n",
       "    </tr>\n",
       "  </tbody>\n",
       "</table>\n",
       "</div>"
      ],
      "text/plain": [
       "         X1        X2  Y  X1Squared  X2Squared       X1X2\n",
       "0  8.000000 -6.000000  0  64.000000  36.000000 -48.000000\n",
       "1  8.089490 -5.878788  0  65.439853  34.560147 -47.556397\n",
       "2  8.176205 -5.757576  0  66.850321  33.149679 -47.075117\n",
       "3  8.260230 -5.636364  0  68.231405  31.768595 -46.557662\n",
       "4  8.341649 -5.515152  0  69.583104  30.416896 -46.005457"
      ]
     },
     "execution_count": 98,
     "metadata": {},
     "output_type": "execute_result"
    }
   ],
   "source": [
    "df1[\"X1Squared\"] = df1[\"X1\"]**2\n",
    "df1[\"X2Squared\"] = df1[\"X2\"]**2\n",
    "df1[\"X1X2\"] = df1[\"X1\"] * df1[\"X2\"]\n",
    "df1.head()"
   ]
  },
  {
   "cell_type": "code",
   "execution_count": 99,
   "id": "bd4a08fb",
   "metadata": {},
   "outputs": [],
   "source": [
    "df1 = df1.dropna()"
   ]
  },
  {
   "cell_type": "code",
   "execution_count": 100,
   "id": "fb222b48",
   "metadata": {},
   "outputs": [
    {
     "data": {
      "text/html": [
       "<div>\n",
       "<style scoped>\n",
       "    .dataframe tbody tr th:only-of-type {\n",
       "        vertical-align: middle;\n",
       "    }\n",
       "\n",
       "    .dataframe tbody tr th {\n",
       "        vertical-align: top;\n",
       "    }\n",
       "\n",
       "    .dataframe thead th {\n",
       "        text-align: right;\n",
       "    }\n",
       "</style>\n",
       "<table border=\"1\" class=\"dataframe\">\n",
       "  <thead>\n",
       "    <tr style=\"text-align: right;\">\n",
       "      <th></th>\n",
       "      <th>X1Squared</th>\n",
       "      <th>X2Squared</th>\n",
       "      <th>X1X2</th>\n",
       "    </tr>\n",
       "  </thead>\n",
       "  <tbody>\n",
       "    <tr>\n",
       "      <th>0</th>\n",
       "      <td>64.000000</td>\n",
       "      <td>36.000000</td>\n",
       "      <td>-48.000000</td>\n",
       "    </tr>\n",
       "    <tr>\n",
       "      <th>1</th>\n",
       "      <td>65.439853</td>\n",
       "      <td>34.560147</td>\n",
       "      <td>-47.556397</td>\n",
       "    </tr>\n",
       "    <tr>\n",
       "      <th>2</th>\n",
       "      <td>66.850321</td>\n",
       "      <td>33.149679</td>\n",
       "      <td>-47.075117</td>\n",
       "    </tr>\n",
       "    <tr>\n",
       "      <th>3</th>\n",
       "      <td>68.231405</td>\n",
       "      <td>31.768595</td>\n",
       "      <td>-46.557662</td>\n",
       "    </tr>\n",
       "    <tr>\n",
       "      <th>4</th>\n",
       "      <td>69.583104</td>\n",
       "      <td>30.416896</td>\n",
       "      <td>-46.005457</td>\n",
       "    </tr>\n",
       "    <tr>\n",
       "      <th>...</th>\n",
       "      <td>...</td>\n",
       "      <td>...</td>\n",
       "      <td>...</td>\n",
       "    </tr>\n",
       "    <tr>\n",
       "      <th>378</th>\n",
       "      <td>4.066116</td>\n",
       "      <td>11.933884</td>\n",
       "      <td>6.965957</td>\n",
       "    </tr>\n",
       "    <tr>\n",
       "      <th>379</th>\n",
       "      <td>3.213958</td>\n",
       "      <td>12.786042</td>\n",
       "      <td>6.410445</td>\n",
       "    </tr>\n",
       "    <tr>\n",
       "      <th>380</th>\n",
       "      <td>2.332415</td>\n",
       "      <td>13.667585</td>\n",
       "      <td>5.646103</td>\n",
       "    </tr>\n",
       "    <tr>\n",
       "      <th>381</th>\n",
       "      <td>1.421488</td>\n",
       "      <td>14.578512</td>\n",
       "      <td>4.552271</td>\n",
       "    </tr>\n",
       "    <tr>\n",
       "      <th>382</th>\n",
       "      <td>0.481175</td>\n",
       "      <td>15.518825</td>\n",
       "      <td>2.732632</td>\n",
       "    </tr>\n",
       "  </tbody>\n",
       "</table>\n",
       "<p>332 rows × 3 columns</p>\n",
       "</div>"
      ],
      "text/plain": [
       "     X1Squared  X2Squared       X1X2\n",
       "0    64.000000  36.000000 -48.000000\n",
       "1    65.439853  34.560147 -47.556397\n",
       "2    66.850321  33.149679 -47.075117\n",
       "3    68.231405  31.768595 -46.557662\n",
       "4    69.583104  30.416896 -46.005457\n",
       "..         ...        ...        ...\n",
       "378   4.066116  11.933884   6.965957\n",
       "379   3.213958  12.786042   6.410445\n",
       "380   2.332415  13.667585   5.646103\n",
       "381   1.421488  14.578512   4.552271\n",
       "382   0.481175  15.518825   2.732632\n",
       "\n",
       "[332 rows x 3 columns]"
      ]
     },
     "execution_count": 100,
     "metadata": {},
     "output_type": "execute_result"
    }
   ],
   "source": [
    "X = df1[[\"X1Squared\", \"X2Squared\", \"X1X2\"]]\n",
    "y = df1[\"Y\"]\n",
    "X"
   ]
  },
  {
   "cell_type": "code",
   "execution_count": 101,
   "id": "eb5f4ec4",
   "metadata": {},
   "outputs": [
    {
     "data": {
      "text/plain": [
       "0      0\n",
       "1      0\n",
       "2      0\n",
       "3      0\n",
       "4      0\n",
       "      ..\n",
       "378    1\n",
       "379    1\n",
       "380    1\n",
       "381    1\n",
       "382    1\n",
       "Name: Y, Length: 332, dtype: int64"
      ]
     },
     "execution_count": 101,
     "metadata": {},
     "output_type": "execute_result"
    }
   ],
   "source": [
    "y"
   ]
  },
  {
   "cell_type": "code",
   "execution_count": 102,
   "id": "4171f1cd",
   "metadata": {},
   "outputs": [
    {
     "data": {
      "text/plain": [
       "((232, 3), (100, 3), (232,), (100,))"
      ]
     },
     "execution_count": 102,
     "metadata": {},
     "output_type": "execute_result"
    }
   ],
   "source": [
    "from sklearn.model_selection import train_test_split\n",
    "X_train, X_test, y_train, y_test = train_test_split(X, y, test_size=0.3, random_state=42)\n",
    "X_train.shape, X_test.shape, y_train.shape, y_test.shape    "
   ]
  },
  {
   "cell_type": "code",
   "execution_count": 103,
   "id": "4be53208",
   "metadata": {},
   "outputs": [
    {
     "data": {
      "application/vnd.plotly.v1+json": {
       "config": {
        "plotlyServerURL": "https://plot.ly"
       },
       "data": [
        {
         "hovertemplate": "X1Squared=%{x}<br>X2Squared=%{y}<br>X1X2=%{z}<br>Y=%{marker.color}<extra></extra>",
         "legendgroup": "",
         "marker": {
          "color": {
           "bdata": "AAAAAAAAAAAAAAAAAAAAAAAAAAAAAAAAAAAAAAAAAAAAAAAAAAAAAAAAAAAAAAAAAAAAAAAAAAAAAAAAAAAAAAAAAAAAAAAAAAAAAAAAAAAAAAAAAAAAAAAAAAAAAAAAAAAAAAAAAAAAAAAAAAAAAAAAAAAAAAAAAAAAAAAAAAAAAAAAAAAAAAAAAAAAAAAAAAAAAAAAAAAAAAAAAAAAAAAAAAAAAAAAAAAAAAAAAAAAAAAAAAAAAAAAAAAAAAAAAAAAAAAAAAABAQEBAQEBAQEBAQEBAQEBAQEBAQEBAQEBAQEBAQEBAQEBAQEBAQEBAQEBAQEBAQEBAQEBAQEBAQEBAQEBAQEBAQEBAQEBAQEBAQEBAQEBAQEBAQEBAQEBAQEBAQEBAQEBAQEBAQEBAQEBAQEBAQEBAQEBAQEBAQEBAQEBAQEBAQEBAQE=",
           "dtype": "i1"
          },
          "coloraxis": "coloraxis",
          "symbol": "circle"
         },
         "mode": "markers",
         "name": "",
         "scene": "scene",
         "showlegend": false,
         "type": "scatter3d",
         "x": {
          "bdata": "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",
          "dtype": "f8"
         },
         "y": {
          "bdata": "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",
          "dtype": "f8"
         },
         "z": {
          "bdata": "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",
          "dtype": "f8"
         }
        }
       ],
       "layout": {
        "coloraxis": {
         "colorbar": {
          "title": {
           "text": "Y"
          }
         },
         "colorscale": [
          [
           0,
           "#0d0887"
          ],
          [
           0.1111111111111111,
           "#46039f"
          ],
          [
           0.2222222222222222,
           "#7201a8"
          ],
          [
           0.3333333333333333,
           "#9c179e"
          ],
          [
           0.4444444444444444,
           "#bd3786"
          ],
          [
           0.5555555555555556,
           "#d8576b"
          ],
          [
           0.6666666666666666,
           "#ed7953"
          ],
          [
           0.7777777777777778,
           "#fb9f3a"
          ],
          [
           0.8888888888888888,
           "#fdca26"
          ],
          [
           1,
           "#f0f921"
          ]
         ]
        },
        "legend": {
         "tracegroupgap": 0
        },
        "margin": {
         "t": 60
        },
        "scene": {
         "domain": {
          "x": [
           0,
           1
          ],
          "y": [
           0,
           1
          ]
         },
         "xaxis": {
          "title": {
           "text": "X1Squared"
          }
         },
         "yaxis": {
          "title": {
           "text": "X2Squared"
          }
         },
         "zaxis": {
          "title": {
           "text": "X1X2"
          }
         }
        },
        "template": {
         "data": {
          "bar": [
           {
            "error_x": {
             "color": "#2a3f5f"
            },
            "error_y": {
             "color": "#2a3f5f"
            },
            "marker": {
             "line": {
              "color": "#E5ECF6",
              "width": 0.5
             },
             "pattern": {
              "fillmode": "overlay",
              "size": 10,
              "solidity": 0.2
             }
            },
            "type": "bar"
           }
          ],
          "barpolar": [
           {
            "marker": {
             "line": {
              "color": "#E5ECF6",
              "width": 0.5
             },
             "pattern": {
              "fillmode": "overlay",
              "size": 10,
              "solidity": 0.2
             }
            },
            "type": "barpolar"
           }
          ],
          "carpet": [
           {
            "aaxis": {
             "endlinecolor": "#2a3f5f",
             "gridcolor": "white",
             "linecolor": "white",
             "minorgridcolor": "white",
             "startlinecolor": "#2a3f5f"
            },
            "baxis": {
             "endlinecolor": "#2a3f5f",
             "gridcolor": "white",
             "linecolor": "white",
             "minorgridcolor": "white",
             "startlinecolor": "#2a3f5f"
            },
            "type": "carpet"
           }
          ],
          "choropleth": [
           {
            "colorbar": {
             "outlinewidth": 0,
             "ticks": ""
            },
            "type": "choropleth"
           }
          ],
          "contour": [
           {
            "colorbar": {
             "outlinewidth": 0,
             "ticks": ""
            },
            "colorscale": [
             [
              0,
              "#0d0887"
             ],
             [
              0.1111111111111111,
              "#46039f"
             ],
             [
              0.2222222222222222,
              "#7201a8"
             ],
             [
              0.3333333333333333,
              "#9c179e"
             ],
             [
              0.4444444444444444,
              "#bd3786"
             ],
             [
              0.5555555555555556,
              "#d8576b"
             ],
             [
              0.6666666666666666,
              "#ed7953"
             ],
             [
              0.7777777777777778,
              "#fb9f3a"
             ],
             [
              0.8888888888888888,
              "#fdca26"
             ],
             [
              1,
              "#f0f921"
             ]
            ],
            "type": "contour"
           }
          ],
          "contourcarpet": [
           {
            "colorbar": {
             "outlinewidth": 0,
             "ticks": ""
            },
            "type": "contourcarpet"
           }
          ],
          "heatmap": [
           {
            "colorbar": {
             "outlinewidth": 0,
             "ticks": ""
            },
            "colorscale": [
             [
              0,
              "#0d0887"
             ],
             [
              0.1111111111111111,
              "#46039f"
             ],
             [
              0.2222222222222222,
              "#7201a8"
             ],
             [
              0.3333333333333333,
              "#9c179e"
             ],
             [
              0.4444444444444444,
              "#bd3786"
             ],
             [
              0.5555555555555556,
              "#d8576b"
             ],
             [
              0.6666666666666666,
              "#ed7953"
             ],
             [
              0.7777777777777778,
              "#fb9f3a"
             ],
             [
              0.8888888888888888,
              "#fdca26"
             ],
             [
              1,
              "#f0f921"
             ]
            ],
            "type": "heatmap"
           }
          ],
          "histogram": [
           {
            "marker": {
             "pattern": {
              "fillmode": "overlay",
              "size": 10,
              "solidity": 0.2
             }
            },
            "type": "histogram"
           }
          ],
          "histogram2d": [
           {
            "colorbar": {
             "outlinewidth": 0,
             "ticks": ""
            },
            "colorscale": [
             [
              0,
              "#0d0887"
             ],
             [
              0.1111111111111111,
              "#46039f"
             ],
             [
              0.2222222222222222,
              "#7201a8"
             ],
             [
              0.3333333333333333,
              "#9c179e"
             ],
             [
              0.4444444444444444,
              "#bd3786"
             ],
             [
              0.5555555555555556,
              "#d8576b"
             ],
             [
              0.6666666666666666,
              "#ed7953"
             ],
             [
              0.7777777777777778,
              "#fb9f3a"
             ],
             [
              0.8888888888888888,
              "#fdca26"
             ],
             [
              1,
              "#f0f921"
             ]
            ],
            "type": "histogram2d"
           }
          ],
          "histogram2dcontour": [
           {
            "colorbar": {
             "outlinewidth": 0,
             "ticks": ""
            },
            "colorscale": [
             [
              0,
              "#0d0887"
             ],
             [
              0.1111111111111111,
              "#46039f"
             ],
             [
              0.2222222222222222,
              "#7201a8"
             ],
             [
              0.3333333333333333,
              "#9c179e"
             ],
             [
              0.4444444444444444,
              "#bd3786"
             ],
             [
              0.5555555555555556,
              "#d8576b"
             ],
             [
              0.6666666666666666,
              "#ed7953"
             ],
             [
              0.7777777777777778,
              "#fb9f3a"
             ],
             [
              0.8888888888888888,
              "#fdca26"
             ],
             [
              1,
              "#f0f921"
             ]
            ],
            "type": "histogram2dcontour"
           }
          ],
          "mesh3d": [
           {
            "colorbar": {
             "outlinewidth": 0,
             "ticks": ""
            },
            "type": "mesh3d"
           }
          ],
          "parcoords": [
           {
            "line": {
             "colorbar": {
              "outlinewidth": 0,
              "ticks": ""
             }
            },
            "type": "parcoords"
           }
          ],
          "pie": [
           {
            "automargin": true,
            "type": "pie"
           }
          ],
          "scatter": [
           {
            "fillpattern": {
             "fillmode": "overlay",
             "size": 10,
             "solidity": 0.2
            },
            "type": "scatter"
           }
          ],
          "scatter3d": [
           {
            "line": {
             "colorbar": {
              "outlinewidth": 0,
              "ticks": ""
             }
            },
            "marker": {
             "colorbar": {
              "outlinewidth": 0,
              "ticks": ""
             }
            },
            "type": "scatter3d"
           }
          ],
          "scattercarpet": [
           {
            "marker": {
             "colorbar": {
              "outlinewidth": 0,
              "ticks": ""
             }
            },
            "type": "scattercarpet"
           }
          ],
          "scattergeo": [
           {
            "marker": {
             "colorbar": {
              "outlinewidth": 0,
              "ticks": ""
             }
            },
            "type": "scattergeo"
           }
          ],
          "scattergl": [
           {
            "marker": {
             "colorbar": {
              "outlinewidth": 0,
              "ticks": ""
             }
            },
            "type": "scattergl"
           }
          ],
          "scattermap": [
           {
            "marker": {
             "colorbar": {
              "outlinewidth": 0,
              "ticks": ""
             }
            },
            "type": "scattermap"
           }
          ],
          "scattermapbox": [
           {
            "marker": {
             "colorbar": {
              "outlinewidth": 0,
              "ticks": ""
             }
            },
            "type": "scattermapbox"
           }
          ],
          "scatterpolar": [
           {
            "marker": {
             "colorbar": {
              "outlinewidth": 0,
              "ticks": ""
             }
            },
            "type": "scatterpolar"
           }
          ],
          "scatterpolargl": [
           {
            "marker": {
             "colorbar": {
              "outlinewidth": 0,
              "ticks": ""
             }
            },
            "type": "scatterpolargl"
           }
          ],
          "scatterternary": [
           {
            "marker": {
             "colorbar": {
              "outlinewidth": 0,
              "ticks": ""
             }
            },
            "type": "scatterternary"
           }
          ],
          "surface": [
           {
            "colorbar": {
             "outlinewidth": 0,
             "ticks": ""
            },
            "colorscale": [
             [
              0,
              "#0d0887"
             ],
             [
              0.1111111111111111,
              "#46039f"
             ],
             [
              0.2222222222222222,
              "#7201a8"
             ],
             [
              0.3333333333333333,
              "#9c179e"
             ],
             [
              0.4444444444444444,
              "#bd3786"
             ],
             [
              0.5555555555555556,
              "#d8576b"
             ],
             [
              0.6666666666666666,
              "#ed7953"
             ],
             [
              0.7777777777777778,
              "#fb9f3a"
             ],
             [
              0.8888888888888888,
              "#fdca26"
             ],
             [
              1,
              "#f0f921"
             ]
            ],
            "type": "surface"
           }
          ],
          "table": [
           {
            "cells": {
             "fill": {
              "color": "#EBF0F8"
             },
             "line": {
              "color": "white"
             }
            },
            "header": {
             "fill": {
              "color": "#C8D4E3"
             },
             "line": {
              "color": "white"
             }
            },
            "type": "table"
           }
          ]
         },
         "layout": {
          "annotationdefaults": {
           "arrowcolor": "#2a3f5f",
           "arrowhead": 0,
           "arrowwidth": 1
          },
          "autotypenumbers": "strict",
          "coloraxis": {
           "colorbar": {
            "outlinewidth": 0,
            "ticks": ""
           }
          },
          "colorscale": {
           "diverging": [
            [
             0,
             "#8e0152"
            ],
            [
             0.1,
             "#c51b7d"
            ],
            [
             0.2,
             "#de77ae"
            ],
            [
             0.3,
             "#f1b6da"
            ],
            [
             0.4,
             "#fde0ef"
            ],
            [
             0.5,
             "#f7f7f7"
            ],
            [
             0.6,
             "#e6f5d0"
            ],
            [
             0.7,
             "#b8e186"
            ],
            [
             0.8,
             "#7fbc41"
            ],
            [
             0.9,
             "#4d9221"
            ],
            [
             1,
             "#276419"
            ]
           ],
           "sequential": [
            [
             0,
             "#0d0887"
            ],
            [
             0.1111111111111111,
             "#46039f"
            ],
            [
             0.2222222222222222,
             "#7201a8"
            ],
            [
             0.3333333333333333,
             "#9c179e"
            ],
            [
             0.4444444444444444,
             "#bd3786"
            ],
            [
             0.5555555555555556,
             "#d8576b"
            ],
            [
             0.6666666666666666,
             "#ed7953"
            ],
            [
             0.7777777777777778,
             "#fb9f3a"
            ],
            [
             0.8888888888888888,
             "#fdca26"
            ],
            [
             1,
             "#f0f921"
            ]
           ],
           "sequentialminus": [
            [
             0,
             "#0d0887"
            ],
            [
             0.1111111111111111,
             "#46039f"
            ],
            [
             0.2222222222222222,
             "#7201a8"
            ],
            [
             0.3333333333333333,
             "#9c179e"
            ],
            [
             0.4444444444444444,
             "#bd3786"
            ],
            [
             0.5555555555555556,
             "#d8576b"
            ],
            [
             0.6666666666666666,
             "#ed7953"
            ],
            [
             0.7777777777777778,
             "#fb9f3a"
            ],
            [
             0.8888888888888888,
             "#fdca26"
            ],
            [
             1,
             "#f0f921"
            ]
           ]
          },
          "colorway": [
           "#636efa",
           "#EF553B",
           "#00cc96",
           "#ab63fa",
           "#FFA15A",
           "#19d3f3",
           "#FF6692",
           "#B6E880",
           "#FF97FF",
           "#FECB52"
          ],
          "font": {
           "color": "#2a3f5f"
          },
          "geo": {
           "bgcolor": "white",
           "lakecolor": "white",
           "landcolor": "#E5ECF6",
           "showlakes": true,
           "showland": true,
           "subunitcolor": "white"
          },
          "hoverlabel": {
           "align": "left"
          },
          "hovermode": "closest",
          "mapbox": {
           "style": "light"
          },
          "paper_bgcolor": "white",
          "plot_bgcolor": "#E5ECF6",
          "polar": {
           "angularaxis": {
            "gridcolor": "white",
            "linecolor": "white",
            "ticks": ""
           },
           "bgcolor": "#E5ECF6",
           "radialaxis": {
            "gridcolor": "white",
            "linecolor": "white",
            "ticks": ""
           }
          },
          "scene": {
           "xaxis": {
            "backgroundcolor": "#E5ECF6",
            "gridcolor": "white",
            "gridwidth": 2,
            "linecolor": "white",
            "showbackground": true,
            "ticks": "",
            "zerolinecolor": "white"
           },
           "yaxis": {
            "backgroundcolor": "#E5ECF6",
            "gridcolor": "white",
            "gridwidth": 2,
            "linecolor": "white",
            "showbackground": true,
            "ticks": "",
            "zerolinecolor": "white"
           },
           "zaxis": {
            "backgroundcolor": "#E5ECF6",
            "gridcolor": "white",
            "gridwidth": 2,
            "linecolor": "white",
            "showbackground": true,
            "ticks": "",
            "zerolinecolor": "white"
           }
          },
          "shapedefaults": {
           "line": {
            "color": "#2a3f5f"
           }
          },
          "ternary": {
           "aaxis": {
            "gridcolor": "white",
            "linecolor": "white",
            "ticks": ""
           },
           "baxis": {
            "gridcolor": "white",
            "linecolor": "white",
            "ticks": ""
           },
           "bgcolor": "#E5ECF6",
           "caxis": {
            "gridcolor": "white",
            "linecolor": "white",
            "ticks": ""
           }
          },
          "title": {
           "x": 0.05
          },
          "xaxis": {
           "automargin": true,
           "gridcolor": "white",
           "linecolor": "white",
           "ticks": "",
           "title": {
            "standoff": 15
           },
           "zerolinecolor": "white",
           "zerolinewidth": 2
          },
          "yaxis": {
           "automargin": true,
           "gridcolor": "white",
           "linecolor": "white",
           "ticks": "",
           "title": {
            "standoff": 15
           },
           "zerolinecolor": "white",
           "zerolinewidth": 2
          }
         }
        }
       }
      }
     },
     "metadata": {},
     "output_type": "display_data"
    }
   ],
   "source": [
    "import plotly.express as px\n",
    "fig = px.scatter_3d(df1, x='X1Squared', y='X2Squared', z='X1X2', color='Y')\n",
    "fig.show()"
   ]
  },
  {
   "cell_type": "code",
   "execution_count": 104,
   "id": "749b60fc",
   "metadata": {},
   "outputs": [
    {
     "data": {
      "text/html": [
       "<div>\n",
       "<style scoped>\n",
       "    .dataframe tbody tr th:only-of-type {\n",
       "        vertical-align: middle;\n",
       "    }\n",
       "\n",
       "    .dataframe tbody tr th {\n",
       "        vertical-align: top;\n",
       "    }\n",
       "\n",
       "    .dataframe thead th {\n",
       "        text-align: right;\n",
       "    }\n",
       "</style>\n",
       "<table border=\"1\" class=\"dataframe\">\n",
       "  <thead>\n",
       "    <tr style=\"text-align: right;\">\n",
       "      <th></th>\n",
       "      <th>X1</th>\n",
       "      <th>X2</th>\n",
       "      <th>Y</th>\n",
       "      <th>X1Squared</th>\n",
       "      <th>X2Squared</th>\n",
       "      <th>X1X2</th>\n",
       "    </tr>\n",
       "  </thead>\n",
       "  <tbody>\n",
       "    <tr>\n",
       "      <th>0</th>\n",
       "      <td>8.000000</td>\n",
       "      <td>-6.000000</td>\n",
       "      <td>0</td>\n",
       "      <td>64.000000</td>\n",
       "      <td>36.000000</td>\n",
       "      <td>-48.000000</td>\n",
       "    </tr>\n",
       "    <tr>\n",
       "      <th>1</th>\n",
       "      <td>8.089490</td>\n",
       "      <td>-5.878788</td>\n",
       "      <td>0</td>\n",
       "      <td>65.439853</td>\n",
       "      <td>34.560147</td>\n",
       "      <td>-47.556397</td>\n",
       "    </tr>\n",
       "    <tr>\n",
       "      <th>2</th>\n",
       "      <td>8.176205</td>\n",
       "      <td>-5.757576</td>\n",
       "      <td>0</td>\n",
       "      <td>66.850321</td>\n",
       "      <td>33.149679</td>\n",
       "      <td>-47.075117</td>\n",
       "    </tr>\n",
       "    <tr>\n",
       "      <th>3</th>\n",
       "      <td>8.260230</td>\n",
       "      <td>-5.636364</td>\n",
       "      <td>0</td>\n",
       "      <td>68.231405</td>\n",
       "      <td>31.768595</td>\n",
       "      <td>-46.557662</td>\n",
       "    </tr>\n",
       "    <tr>\n",
       "      <th>4</th>\n",
       "      <td>8.341649</td>\n",
       "      <td>-5.515152</td>\n",
       "      <td>0</td>\n",
       "      <td>69.583104</td>\n",
       "      <td>30.416896</td>\n",
       "      <td>-46.005457</td>\n",
       "    </tr>\n",
       "    <tr>\n",
       "      <th>...</th>\n",
       "      <td>...</td>\n",
       "      <td>...</td>\n",
       "      <td>...</td>\n",
       "      <td>...</td>\n",
       "      <td>...</td>\n",
       "      <td>...</td>\n",
       "    </tr>\n",
       "    <tr>\n",
       "      <th>378</th>\n",
       "      <td>-2.016461</td>\n",
       "      <td>-3.454545</td>\n",
       "      <td>1</td>\n",
       "      <td>4.066116</td>\n",
       "      <td>11.933884</td>\n",
       "      <td>6.965957</td>\n",
       "    </tr>\n",
       "    <tr>\n",
       "      <th>379</th>\n",
       "      <td>-1.792751</td>\n",
       "      <td>-3.575758</td>\n",
       "      <td>1</td>\n",
       "      <td>3.213958</td>\n",
       "      <td>12.786042</td>\n",
       "      <td>6.410445</td>\n",
       "    </tr>\n",
       "    <tr>\n",
       "      <th>380</th>\n",
       "      <td>-1.527225</td>\n",
       "      <td>-3.696970</td>\n",
       "      <td>1</td>\n",
       "      <td>2.332415</td>\n",
       "      <td>13.667585</td>\n",
       "      <td>5.646103</td>\n",
       "    </tr>\n",
       "    <tr>\n",
       "      <th>381</th>\n",
       "      <td>-1.192262</td>\n",
       "      <td>-3.818182</td>\n",
       "      <td>1</td>\n",
       "      <td>1.421488</td>\n",
       "      <td>14.578512</td>\n",
       "      <td>4.552271</td>\n",
       "    </tr>\n",
       "    <tr>\n",
       "      <th>382</th>\n",
       "      <td>-0.693668</td>\n",
       "      <td>-3.939394</td>\n",
       "      <td>1</td>\n",
       "      <td>0.481175</td>\n",
       "      <td>15.518825</td>\n",
       "      <td>2.732632</td>\n",
       "    </tr>\n",
       "  </tbody>\n",
       "</table>\n",
       "<p>332 rows × 6 columns</p>\n",
       "</div>"
      ],
      "text/plain": [
       "           X1        X2  Y  X1Squared  X2Squared       X1X2\n",
       "0    8.000000 -6.000000  0  64.000000  36.000000 -48.000000\n",
       "1    8.089490 -5.878788  0  65.439853  34.560147 -47.556397\n",
       "2    8.176205 -5.757576  0  66.850321  33.149679 -47.075117\n",
       "3    8.260230 -5.636364  0  68.231405  31.768595 -46.557662\n",
       "4    8.341649 -5.515152  0  69.583104  30.416896 -46.005457\n",
       "..        ...       ... ..        ...        ...        ...\n",
       "378 -2.016461 -3.454545  1   4.066116  11.933884   6.965957\n",
       "379 -1.792751 -3.575758  1   3.213958  12.786042   6.410445\n",
       "380 -1.527225 -3.696970  1   2.332415  13.667585   5.646103\n",
       "381 -1.192262 -3.818182  1   1.421488  14.578512   4.552271\n",
       "382 -0.693668 -3.939394  1   0.481175  15.518825   2.732632\n",
       "\n",
       "[332 rows x 6 columns]"
      ]
     },
     "execution_count": 104,
     "metadata": {},
     "output_type": "execute_result"
    }
   ],
   "source": [
    "df1"
   ]
  },
  {
   "cell_type": "code",
   "execution_count": null,
   "id": "fc937349",
   "metadata": {},
   "outputs": [
    {
     "name": "stdout",
     "output_type": "stream",
     "text": [
      "Accuracy: 1.0\n"
     ]
    }
   ],
   "source": [
    "from sklearn.svm import SVC\n",
    "from sklearn.metrics import accuracy_score, confusion_matrix, classification_report\n",
    "cls = SVC(kernel='linear') #why linear? we have created polynomial\n",
    "cls.fit(X_train, y_train)\n",
    "y_pred = cls.predict(X_test)\n",
    "print(\"Accuracy:\", accuracy_score(y_test, y_pred))"
   ]
  },
  {
   "cell_type": "code",
   "execution_count": null,
   "id": "71fb596c",
   "metadata": {},
   "outputs": [],
   "source": [
    "#till now we ahve doen everyging manually now we will use svc kernel"
   ]
  },
  {
   "cell_type": "code",
   "execution_count": 106,
   "id": "c586e7d7",
   "metadata": {},
   "outputs": [
    {
     "data": {
      "text/html": [
       "<div>\n",
       "<style scoped>\n",
       "    .dataframe tbody tr th:only-of-type {\n",
       "        vertical-align: middle;\n",
       "    }\n",
       "\n",
       "    .dataframe tbody tr th {\n",
       "        vertical-align: top;\n",
       "    }\n",
       "\n",
       "    .dataframe thead th {\n",
       "        text-align: right;\n",
       "    }\n",
       "</style>\n",
       "<table border=\"1\" class=\"dataframe\">\n",
       "  <thead>\n",
       "    <tr style=\"text-align: right;\">\n",
       "      <th></th>\n",
       "      <th>X1</th>\n",
       "      <th>X2</th>\n",
       "      <th>Y</th>\n",
       "    </tr>\n",
       "  </thead>\n",
       "  <tbody>\n",
       "    <tr>\n",
       "      <th>0</th>\n",
       "      <td>8.000000</td>\n",
       "      <td>-6.000000</td>\n",
       "      <td>0</td>\n",
       "    </tr>\n",
       "    <tr>\n",
       "      <th>1</th>\n",
       "      <td>8.089490</td>\n",
       "      <td>-5.878788</td>\n",
       "      <td>0</td>\n",
       "    </tr>\n",
       "    <tr>\n",
       "      <th>2</th>\n",
       "      <td>8.176205</td>\n",
       "      <td>-5.757576</td>\n",
       "      <td>0</td>\n",
       "    </tr>\n",
       "    <tr>\n",
       "      <th>3</th>\n",
       "      <td>8.260230</td>\n",
       "      <td>-5.636364</td>\n",
       "      <td>0</td>\n",
       "    </tr>\n",
       "    <tr>\n",
       "      <th>4</th>\n",
       "      <td>8.341649</td>\n",
       "      <td>-5.515152</td>\n",
       "      <td>0</td>\n",
       "    </tr>\n",
       "  </tbody>\n",
       "</table>\n",
       "</div>"
      ],
      "text/plain": [
       "         X1        X2  Y\n",
       "0  8.000000 -6.000000  0\n",
       "1  8.089490 -5.878788  0\n",
       "2  8.176205 -5.757576  0\n",
       "3  8.260230 -5.636364  0\n",
       "4  8.341649 -5.515152  0"
      ]
     },
     "execution_count": 106,
     "metadata": {},
     "output_type": "execute_result"
    }
   ],
   "source": [
    "df = df.dropna()\n",
    "df.head()"
   ]
  },
  {
   "cell_type": "code",
   "execution_count": 107,
   "id": "58b46064",
   "metadata": {},
   "outputs": [
    {
     "data": {
      "text/plain": [
       "((232, 3), (100, 3), (232,), (100,))"
      ]
     },
     "execution_count": 107,
     "metadata": {},
     "output_type": "execute_result"
    }
   ],
   "source": [
    "X_train, X_test, y_train, y_test = train_test_split(X, y, test_size=0.3, random_state=42)\n",
    "X_train.shape, X_test.shape, y_train.shape, y_test.shape    "
   ]
  },
  {
   "cell_type": "code",
   "execution_count": 110,
   "id": "711f1f7b",
   "metadata": {},
   "outputs": [
    {
     "name": "stdout",
     "output_type": "stream",
     "text": [
      "Accuracy: 1.0\n"
     ]
    }
   ],
   "source": [
    "from sklearn.svm import SVC\n",
    "from sklearn.metrics import accuracy_score, confusion_matrix, classification_report\n",
    "cls = SVC(kernel='rbf') #why linear? we have created polynomial\n",
    "cls.fit(X_train, y_train)\n",
    "y_pred = cls.predict(X_test)\n",
    "print(\"Accuracy:\", accuracy_score(y_test, y_pred))"
   ]
  },
  {
   "cell_type": "code",
   "execution_count": 111,
   "id": "f5a54a71",
   "metadata": {},
   "outputs": [
    {
     "name": "stdout",
     "output_type": "stream",
     "text": [
      "Accuracy: 1.0\n"
     ]
    }
   ],
   "source": [
    "from sklearn.svm import SVC\n",
    "from sklearn.metrics import accuracy_score, confusion_matrix, classification_report\n",
    "cls = SVC(kernel='sigmoid') #why linear? we have created polynomial\n",
    "cls.fit(X_train, y_train)\n",
    "y_pred = cls.predict(X_test)\n",
    "print(\"Accuracy:\", accuracy_score(y_test, y_pred))"
   ]
  }
 ],
 "metadata": {
  "kernelspec": {
   "display_name": "Python 3",
   "language": "python",
   "name": "python3"
  },
  "language_info": {
   "codemirror_mode": {
    "name": "ipython",
    "version": 3
   },
   "file_extension": ".py",
   "mimetype": "text/x-python",
   "name": "python",
   "nbconvert_exporter": "python",
   "pygments_lexer": "ipython3",
   "version": "3.12.4"
  }
 },
 "nbformat": 4,
 "nbformat_minor": 5
}
